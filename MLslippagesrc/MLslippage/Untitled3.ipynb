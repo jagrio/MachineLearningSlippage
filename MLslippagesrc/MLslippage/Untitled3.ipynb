{
 "cells": [
  {
   "cell_type": "code",
   "execution_count": null,
   "metadata": {
    "collapsed": true,
    "deletable": true,
    "editable": true
   },
   "outputs": [],
   "source": [
    "def gs_fun(clf,params,cv,x,y):\n",
    "    grid_search = GridSearchCV(estimator=clf,param_grid= params, cv = cv, verbose = 0)\n",
    "    grid_search.fit(x,y)\n",
    "    print(\"------ Grid search cv results for %s ------\" %clf)\n",
    "    print(\"Best score: %0.4f\" %grid_search.best_score_)\n",
    "    print(\"Best parameters set:\")\n",
    "    best_parameters = grid_search.best_estimator_.get_params()\n",
    "    for param_name in sorted(params.keys()):\n",
    "         print(\"\\t%s: %r\" % (param_name, best_parameters[param_name]))\n",
    "    return best_parameters\n",
    "    "
   ]
  },
  {
   "cell_type": "code",
   "execution_count": 26,
   "metadata": {
    "collapsed": false,
    "deletable": true,
    "editable": true
   },
   "outputs": [
    {
     "name": "stdout",
     "output_type": "stream",
     "text": [
      "------ Grid search cv results for SVC(C=1.0, cache_size=200, class_weight=None, coef0=0.0,\n",
      "  decision_function_shape=None, degree=3, gamma='auto', kernel='rbf',\n",
      "  max_iter=-1, probability=False, random_state=None, shrinking=True,\n",
      "  tol=0.001, verbose=False) ------\n",
      "Best score: 0.9800\n",
      "Best parameters set:\n",
      "\tC: 10\n",
      "\tkernel: 'rbf'\n",
      "------ Grid search cv results for KNeighborsClassifier(algorithm='auto', leaf_size=30, metric='minkowski',\n",
      "           metric_params=None, n_jobs=1, n_neighbors=5, p=2,\n",
      "           weights='uniform') ------\n",
      "Best score: 0.9733\n",
      "Best parameters set:\n",
      "\tn_neighbors: 4\n"
     ]
    }
   ],
   "source": [
    "from sklearn.neighbors import KNeighborsClassifier\n",
    "classifiers = [SVC(),KNeighborsClassifier()]\n",
    "cv = StratifiedKFold(n_splits=3, random_state=42)\n",
    "# params = []\n",
    "parameters = [{'kernel':('linear', 'rbf'), 'C':[1, 10]}, {'n_neighbors':[4]}]\n",
    "grid = [gs_fun(clf,parameters[clf_ind], cv, X,Y) for (clf_ind,clf) in enumerate(classifiers)]"
   ]
  },
  {
   "cell_type": "code",
   "execution_count": null,
   "metadata": {
    "collapsed": true,
    "deletable": true,
    "editable": true
   },
   "outputs": [],
   "source": []
  }
 ],
 "metadata": {
  "kernelspec": {
   "display_name": "Python 2",
   "language": "python",
   "name": "python2"
  },
  "language_info": {
   "codemirror_mode": {
    "name": "ipython",
    "version": 2
   },
   "file_extension": ".py",
   "mimetype": "text/x-python",
   "name": "python",
   "nbconvert_exporter": "python",
   "pygments_lexer": "ipython2",
   "version": "2.7.12"
  }
 },
 "nbformat": 4,
 "nbformat_minor": 2
}
