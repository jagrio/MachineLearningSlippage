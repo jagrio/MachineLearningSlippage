{
 "cells": [
  {
   "cell_type": "code",
   "execution_count": 1,
   "metadata": {
    "collapsed": false,
    "deletable": true,
    "editable": true
   },
   "outputs": [],
   "source": [
    "import numpy as np\n",
    "from sklearn.metrics import confusion_matrix, classification_report\n",
    "from sklearn import preprocessing\n",
    "from sklearn.svm import SVC\n",
    "from sklearn.naive_bayes import GaussianNB\n",
    "from sklearn.neural_network import MLPClassifier\n",
    "from sklearn.feature_selection import SelectFromModel, SelectKBest, chi2, f_classif, mutual_info_classif\n",
    "from sklearn.model_selection import StratifiedKFold, GridSearchCV, ParameterGrid\n",
    "from sklearn.model_selection import cross_val_score, train_test_split\n",
    "from sklearn.preprocessing import StandardScaler, normalize\n",
    "from sklearn.decomposition import PCA\n",
    "from sklearn.semi_supervised import LabelSpreading, LabelPropagation\n",
    "from sklearn.pipeline import Pipeline\n",
    "%matplotlib inline \n",
    "import matplotlib.pyplot as plt\n",
    "from matplotlib.colors import ListedColormap\n",
    "import matplotlib\n",
    "from mpl_toolkits.mplot3d import Axes3D #, axes3d"
   ]
  },
  {
   "cell_type": "code",
   "execution_count": 2,
   "metadata": {
    "collapsed": true,
    "deletable": true,
    "editable": true
   },
   "outputs": [],
   "source": [
    "def make_pipe_clf(scaler,feature_selection,decomp,clf):\n",
    "    order = 1\n",
    "# order = 1 : first perform feature selection and then apply PCA\n",
    "# order = 0 : first apply PCA and then reduce the transformed features\n",
    "    if order:\n",
    "        pipeline = Pipeline([('scaler', scaler),\n",
    "                    ('feature_selection', feature_selection),\n",
    "                    ('decomp', decomp),         \n",
    "                    ('classifier', clf) ])\n",
    "#     else:\n",
    "#         pipeline = Pipeline([('scaler', scaler),\n",
    "#                     ('decomp', decomp ),                 \n",
    "#                     ('feature_selection', feature_selection),        \n",
    "#                     ('classifier', clf) ])\n",
    "    return pipeline\n",
    "###########################################################################################\n",
    "def make_pipe(scaler,feature_selection,decomp,order):\n",
    "    if order:\n",
    "        pipeline = Pipeline([('scaler', scaler),\n",
    "                    ('feature_selection', feature_selection),\n",
    "                    ('decomp', decomp),         \n",
    "                     ])\n",
    "    else:\n",
    "        pipeline = Pipeline([('scaler', scaler),\n",
    "                    ('decomp', decomp ),                 \n",
    "                    ('feature_selection', feature_selection),        \n",
    "                     ])\n",
    "    return pipeline\n",
    "###########################################################################################\n",
    "def time_form(X,y,past,future,present=False):\n",
    "    r = range(past+future)\n",
    "    if len(r) != 0:\n",
    "        xn = np.zeros((X.shape[0]-len(r)+1,0))\n",
    "        for i in range(len(r)):\n",
    "            if i < len(r)-1:\n",
    "                xn = np.concatenate((xn,X[i:-(r[-(i+1)]),:]),axis=1)\n",
    "            else:\n",
    "                xn = np.concatenate((xn,X[i:,:]),axis=1)\n",
    "        if present: # take the present as label\n",
    "            yn = y[past-1:-(future)]\n",
    "        else:       # take the future as label\n",
    "            yn = y[r[-1]:]\n",
    "    else:\n",
    "        xn, yn = X, y\n",
    "    return xn, yn"
   ]
  },
  {
   "cell_type": "code",
   "execution_count": 3,
   "metadata": {
    "collapsed": false,
    "deletable": true,
    "editable": true
   },
   "outputs": [],
   "source": [
    "class Nested_cv:\n",
    "    def __init__(self, n_outer_folds = 3, n_inner_folds = 3, n_top =1, state = 42):\n",
    "        self.n_outer_folds = n_outer_folds\n",
    "        self.n_inner_folds = n_inner_folds\n",
    "        self.n_top = n_top\n",
    "        self.state = state\n",
    "#         print(\"constructor %d\" %self.state)\n",
    "                                        \n",
    "    def set_pipe(self, pip_steps, pip_params):\n",
    "        n_steps = len(pip_steps)\n",
    "        if n_steps == 3:\n",
    "            self.pipe = make_pipe(scaler = pip_steps[0], feature_selection = pip_steps[1], decomp = pip_steps[2])\n",
    "            self.params = pip_params\n",
    "        if n_steps == 4:\n",
    "            self.pipe = make_pipe_clf(scaler = pip_steps[0], feature_selection = pip_steps[1], decomp = pip_steps[2], clf = pip_steps[3])\n",
    "            self.params = pip_params\n",
    "        else:\n",
    "            print (\"Number of steps gotta be either 3 or 4, you inserted %d.\" %n_steps)\n",
    "        return self.pipe\n",
    "        \n",
    "    def fit(self, x_tot, y_tot, verbose = 0):\n",
    "        self.verbose = verbose\n",
    "#         print(\"fit %d\" %self.state)\n",
    "        if self.n_top >1 :\n",
    "            print (\"ACHTUNG! You need to use fit2 for multiple best models!\")\n",
    "            self.fit2(x_tot,y_tot)\n",
    "        else:\n",
    "            self.outer_cv = StratifiedKFold(n_splits = self.n_outer_folds, shuffle = True, random_state = self.state)\n",
    "            self.inner_cv = StratifiedKFold(n_splits = self.n_inner_folds, shuffle = True, random_state = self.state)\n",
    "            self.grid = GridSearchCV(self.pipe, self.params, cv = self.inner_cv, verbose = self.verbose)       \n",
    "            self.score = cross_val_score(self.grid, X = x_tot, y = y_tot, cv = self.outer_cv, verbose = self.verbose)\n",
    "\n",
    "    def get_outer_scores(self):\n",
    "        return self.score\n",
    "    \n",
    "    def get_mean_score(self):\n",
    "        self.mean_score = self.score.mean()\n",
    "        print (\"Mean score of %d outer folds : %f\" %(self.n_outer_folds, self.mean_score ))\n",
    "        return self.mean_score\n",
    "    \n",
    "    def combinations(self):\n",
    "        self.comb = 1\n",
    "        for self.key in self.params.keys():\n",
    "            self.comb =self.comb*len(self.params[self.key])\n",
    "        return self.comb\n",
    "    \n",
    "    def get_feat_scores(self):\n",
    "        return self.total_feats\n",
    "    \n",
    "    def get_best_features(self):\n",
    "        print(self.best_feat_ind)\n",
    "        return self.best_feat_ind\n",
    "    \n",
    "    def print_feat_scores(self):\n",
    "        self.norm_total_feats = (self.total_feats)/(1. * self.n_inner_folds * self.n_top)\n",
    "        print self.total_feats.argsort(), self.norm_total_feats.argsort()\n",
    "#         plt.figure(figsize=(18,9))\n",
    "        self.rel_score = plt.bar(range(len(self.total_feats)),self.norm_total_feats,width=1.)\n",
    "#         self.rel_score = plt.plot(range(len(self.total_feats)),self.norm_total_feats)\n",
    "        plt.xlabel(\"Features\")\n",
    "        plt.ylabel(\"Score\")\n",
    "        plt.show()\n",
    "        \n",
    "    \n",
    "    def repeated_cv(self,x_tot, y_tot, num_trials):\n",
    "        self.repeated = np.zeros(num_trials)\n",
    "        self.rep_feat_scores = np.zeros(x_tot.shape[1])\n",
    "        self.num_trials = num_trials\n",
    "        self.state +=1\n",
    "        for st in range(self.num_trials):\n",
    "            self.state +=1\n",
    "            self.fit(x_tot, y_tot)\n",
    "#             print(\"repeated %d\" %self.state)\n",
    "            self.out = self.get_outer_scores()\n",
    "            self.rep_feat_scores += self.get_feat_scores()\n",
    "            self.repeated[st] = self.out.mean()\n",
    "            \n",
    "        plt.figure()\n",
    "        self.rep_sc_plot = plt.bar(range(num_trials),self.repeated,width=1.)\n",
    "        plt.xlabel(\"Individual trial #\")\n",
    "        plt.ylabel(\"Outer mean scores\")\n",
    "        plt.show()\n",
    "    \n",
    "    def print_rep_feat_scores(self):\n",
    "        plt.figure()\n",
    "        self.norm_rep_feats = (self.rep_feat_scores)/(1.*self.n_inner_folds*self.n_top*self.num_trials)\n",
    "        self.rel_score = plt.bar(range(len(self.total_feats)),self.norm_rep_feats,width=1.)\n",
    "        plt.xlabel(\"Features\")\n",
    "        plt.ylabel(\"Feature Score\")\n",
    "        plt.show()\n",
    "        \n",
    "    def get_rep_feat_scores(self):\n",
    "        return self.rep_feat_scores\n",
    "        \n",
    "    def fit2(self,x_tot, y_tot):\n",
    "        #the \"handwritten\" implementation\n",
    "        self.total_feats = np.zeros(x_tot.shape[1])\n",
    "        self.classifiers= list(ParameterGrid(self.params))\n",
    "        self.outer_scores = np.zeros((self.n_top, self.n_outer_folds))\n",
    "#         self.ncomp = self.params['decomp__n_components']\n",
    "#         self.best_feat_ind = []\n",
    "        self.best_pipes = [[],[]]\n",
    "        self.outer_cv = StratifiedKFold(n_splits = self.n_outer_folds, shuffle = True, random_state = self.state)\n",
    "        self.inner_cv = StratifiedKFold(n_splits = self.n_inner_folds, shuffle = True, random_state = self.state)\n",
    "        self.outer = self.outer_cv.split(x_tot,y_tot)\n",
    "        for self.fold_out, (self.train_ind_out,self.test_ind_out) in enumerate(self.outer):\n",
    "            top_models = []\n",
    "            if self.verbose>0 :\n",
    "                print(\"Outer loop %d/%d\" %((self.fold_out + 1), self.n_outer_folds))\n",
    "        # split the dataset \n",
    "            self.x_trn_out, self.x_tst_out = x_tot[self.train_ind_out], x_tot[self.test_ind_out]\n",
    "            self.y_trn_out, self.y_tst_out = y_tot[self.train_ind_out], y_tot[self.test_ind_out]  \n",
    "            \n",
    "            self.inner_scores = np.zeros((len(self.classifiers),self.n_inner_folds))\n",
    "            self.inner_mean_scores = np.zeros(len(self.classifiers))\n",
    "            \n",
    "            for self.cl_ind, self.clf in enumerate(self.classifiers):\n",
    "                self.inner = self.inner_cv.split(self.x_trn_out, self.y_trn_out)\n",
    "                self.nfeat = self.classifiers[self.cl_ind]['feature_selection__k']\n",
    "                self.best_feat_ind = np.zeros((self.n_top, self.nfeat))\n",
    "\n",
    "\n",
    "                for self.fold_in, (self.train_ind_in, self.test_ind_in) in enumerate(self.inner): \n",
    "                    if self.verbose>0 :\n",
    "                        print(\"Inner fold %d/%d\" % ((self.fold_in + 1), self.n_inner_folds ))\n",
    "                    # split the datasets for the inner cv \n",
    "                    self.x_trn_in, self.x_tst_in = self.x_trn_out[self.train_ind_in], self.x_trn_out[self.test_ind_in]\n",
    "                    self.y_trn_in, self.y_tst_in = self.y_trn_out[self.train_ind_in], self.y_trn_out[self.test_ind_in]\n",
    "                    self.pip = self.pipe.set_params(**self.clf)\n",
    "                    self.pip.fit(self.x_trn_in,self.y_trn_in)\n",
    "                    self.inner_scores[self.cl_ind][self.fold_in] = self.pip.score(self.x_tst_in, self.y_tst_in)\n",
    "\n",
    "            # get the mean performance for every classifier\n",
    "            self.inner_mean_scores = np.mean(self.inner_scores, axis = 1)\n",
    "#             print('\\n',self.inner_mean_scores)\n",
    "\n",
    "            # sort the scores, low -> high \n",
    "            self.sorted_inds = self.inner_mean_scores.argsort()\n",
    "            self.sorted_scores = self.inner_mean_scores[self.sorted_inds]\n",
    "\n",
    "            print (\"Best %d models for outer fold %d are: \\n \" %(self.n_top, (self.fold_out+1)))\n",
    "\n",
    "#             get the inds of best performing models\n",
    "            self.temp2 = 0\n",
    "            for self.temp_ind in range(-1, -(self.n_top +1), -1):\n",
    "                self.actual_ind = self.sorted_inds[self.temp_ind]\n",
    "                self.best_pipes[1].append(self.classifiers[self.actual_ind]) \n",
    "                self.best_pipes[0].append(self.fold_out)\n",
    "                print(\"model no.%d \"%(self.actual_ind + 1))\n",
    "                print(self.classifiers[self.actual_ind])\n",
    "                #print the top features selected\n",
    "                self.best_fs = self.pipe.set_params(**self.classifiers[self.actual_ind]).named_steps['feature_selection']\n",
    "#                 best_fs = pipeline[actual_ind].named_steps['feature_selection']\n",
    "                self.be = self.best_fs.get_support(indices = True)\n",
    "#                 print(self.be.shape)\n",
    "#                 self.pipe_fs_unsorted = self.best_fs.scores_\n",
    "# #                 print(self.pipe_fs_unsorted.shape)\n",
    "# #                 plt.plot(self.pipe_fs_unsorted)\n",
    "# #                 print self.pipe_fs_unsorted, self.pipe_fs_unsorted.argsort()\n",
    "#                 self.fs_inds = self.pipe_fs_unsorted.argsort()\n",
    "# #                 print(self.fs_inds)\n",
    "#                 self.pipe_fs = self.pipe_fs_unsorted[self.fs_inds]\n",
    "#                 self.temp3 = 0 # temp3 = 0:number of features\n",
    "    \n",
    "#                 for self.temp_ind2 in range(-1, -(self.nfeat +1), -1):         \n",
    "#                     self.best_feat_ind[self.temp2][self.temp3]=self.fs_inds[self.temp_ind2]\n",
    "#                     self.total_feats[self.fs_inds[self.temp_ind2]]+=1 # feature scores \n",
    "#                     self.temp3+=1\n",
    "                    \n",
    "                for self.def_ind, self.def_val in enumerate(self.be):\n",
    "                    self.total_feats[self.def_val] += 1 \n",
    "                #fit the best classifier on the outer test data\n",
    "                self.best_pip = self.pipe.set_params(**self.classifiers[self.actual_ind])\n",
    "                \n",
    "                self.best_pip.fit(self.x_trn_out, self.y_trn_out)\n",
    "                \n",
    "                #get the outer score \n",
    "                self.outer_scores[self.temp2, self.fold_out] = self.best_pip.score(self.x_tst_out, self.y_tst_out)\n",
    "                print(\"Inner score: %f VS Outer score: %f \\n\" %(self.inner_mean_scores[self.actual_ind], self.outer_scores[self.temp2, self.fold_out]))\n",
    "                print (\"----------------------------------------------------------\")\n",
    "                self.temp2+=1\n",
    "\n",
    "\n",
    "#             print(\"Features selected: \\n\")\n",
    "#             print(best_feat_ind.sort())     \n",
    "#             print(self.best_feat_ind)\n",
    "        # print(outer_scores)  \n",
    "        # print(best_pipes)\n",
    "        self.score = self.outer_scores\n",
    "        \n"
   ]
  },
  {
   "cell_type": "code",
   "execution_count": 4,
   "metadata": {
    "collapsed": true,
    "deletable": true,
    "editable": true
   },
   "outputs": [],
   "source": [
    "#================================================\n",
    "#==================  EXAMPLE ====================\n",
    "#================================================"
   ]
  },
  {
   "cell_type": "code",
   "execution_count": 5,
   "metadata": {
    "collapsed": false,
    "deletable": true,
    "editable": true
   },
   "outputs": [
    {
     "name": "stdout",
     "output_type": "stream",
     "text": [
      "('gathered features: ', (19665, 6216), (19665,), (20041, 6216), (20041,), (19791, 6216), (19791,), 9649.0)\n"
     ]
    }
   ],
   "source": [
    "datapath = '/home/jagrio/Desktop/MLslippage/MLslippagesrc/MLslippage/tmp/features/1024_1/'\n",
    "XYfile = datapath + 'newfeatures_trans_1024_1_10_20000_XY.npz'\n",
    "window = 1024\n",
    "# Xpcafile = datapath + 'newfeatures_1024_1_10_10000_dimred.npz'\n",
    "# Xtestsds = datapath + 'newfeatures_1024_1_10_10000_testds.npz'\n",
    "############# GATHERING into one complete array\n",
    "#X = np.load(XYfile)['X']\n",
    "with np.load(XYfile, encoding = 'latin1') as inpf:\n",
    "    X = inpf['X']\n",
    "    Y = inpf['Y']\n",
    "\n",
    "print ('gathered features: ', X[0].shape, Y[0].shape, X[1].shape, Y[1].shape, X[2].shape, Y[2].shape, np.sum(Y[2]))"
   ]
  },
  {
   "cell_type": "code",
   "execution_count": 6,
   "metadata": {
    "collapsed": false,
    "deletable": true,
    "editable": true
   },
   "outputs": [],
   "source": [
    "########################################## Feature Names ###########################################################\n",
    "####################################################################################################################\n",
    "##  features:                                                                                  ||      if         ##\n",
    "##  |----------> time domain      :                                                            || samples = 1024  ##\n",
    "##  |------------|---> phinyomark : 11+3{shist} -----------------------------> = 14+0.0samples ||             14  ##\n",
    "##  |------------|---> golz       : 10+samples{acrol} -----------------------> = 10+1.0samples ||           1034  ##\n",
    "##  |----------> frequency domain :                                                                               ##\n",
    "##  |------------|---> phinyomark : 3{arco}+4{mf}+3(samples/2+1){RF,IF} -----> =  9+1.0samples ||           1033  ##\n",
    "##  |------------|---> golz       : 1{ffaf}+2(samples/2+1){AF,PF} -----------> =  3+1.0samples ||           1027  ##\n",
    "##  |------------|--------|-------alltogether--------------------------------> = 36+3.5samples || numfeat = 3108  ##\n",
    "####################################################################################################################\n",
    "## Time Domain Phinyomark feats\n",
    "featnames = ['intsgnl', 'meanabs', 'meanabsslp', 'ssi', 'var', 'rms', 'rng', 'wavl', 'zerox', 'ssc', 'wamp', \n",
    "             'shist1', 'shist2', 'shist3']                                                   # 11+3{shist}\n",
    "## Frequency Domain Phinyomark feats\n",
    "featnames += ['arco1', 'arco2', 'arco3', 'mnf', 'mdf', 'mmnf', 'mmdf']                       # 3{arco}+4{mf}\n",
    "featnames += ['reFFT{:03d}'.format(i) for i in range(window/2+1)]                            # samples/2+1{RF}\n",
    "featnames += ['imFFT{:03d}'.format(i) for i in range(window/2+1)]                            # samples/2+1{IF}\n",
    "## Time Domain Golz feats\n",
    "featnames += ['meanv', 'stdr', 'mx', 'rngx', 'rngy', 'med', 'hjorth', 'sentr', 'se', 'ssk']  # 10\n",
    "featnames += ['acrol{:04d}'.format(i) for i in range(window)]                                # samples{acrol}\n",
    "## Frequency Domain Golz feats\n",
    "featnames += ['amFFT{:03d}'.format(i) for i in range(window/2+1)]                            # samples/2+1{AF}\n",
    "featnames += ['phFFT{:03d}'.format(i) for i in range(window/2+1)]                            # samples/2+1{PF}\n",
    "featnames += ['ffaf'] "
   ]
  },
  {
   "cell_type": "code",
   "execution_count": 7,
   "metadata": {
    "collapsed": true,
    "deletable": true,
    "editable": true
   },
   "outputs": [],
   "source": [
    "namesid = [['sf{:04d}'.format(i) for i in range(X[0].shape[1]/2)],\n",
    "           ['ftn{:04d}'.format(i) for i in range(X[0].shape[1]/2)],\n",
    "           ['sf{:04d}'.format(i) if i<X[0].shape[1]/2 else 'ftn{:04d}'.format(i%X[0].shape[1]/2) for i in range(X[0].shape[1])]]\n",
    "namesf = [['sf_{}'.format(featnames[i]) for i in range(X[0].shape[1]/2)],\n",
    "         ['ftn_{}'.format(featnames[i]) for i in range(X[0].shape[1]/2)],\n",
    "         ['sf_{}'.format(featnames[i]) if i<X[0].shape[1]/2 else 'ftn_{}'.format(featnames[i%X[0].shape[1]/2]) for i in range(X[0].shape[1])]]"
   ]
  },
  {
   "cell_type": "code",
   "execution_count": 8,
   "metadata": {
    "collapsed": false,
    "deletable": true,
    "editable": true,
    "scrolled": false
   },
   "outputs": [
    {
     "name": "stdout",
     "output_type": "stream",
     "text": [
      "70.0 (19663,)\n",
      "12101 4016 3547\n",
      "90.0 (20039,)\n",
      "17240 1322 1478\n",
      "160.0 (19789,)\n",
      "15263 2273 2254\n"
     ]
    },
    {
     "data": {
      "image/png": "[encoded data removed]",
      "text/plain": [
       "<matplotlib.figure.Figure at 0x7fec778a0290>"
      ]
     },
     "metadata": {},
     "output_type": "display_data"
    },
    {
     "data": {
      "image/png": "[encoded data removed]",
      "text/plain": [
       "<matplotlib.figure.Figure at 0x7fecb4b8a190>"
      ]
     },
     "metadata": {},
     "output_type": "display_data"
    },
    {
     "data": {
      "image/png": "[encoded data removed]",
      "text/plain": [
       "<matplotlib.figure.Figure at 0x7febc5083250>"
      ]
     },
     "metadata": {},
     "output_type": "display_data"
    }
   ],
   "source": [
    "Yn, Ynd, keep = {}, {}, 100\n",
    "for i in range(Y.shape[0]):\n",
    "    Yn[i] = np.copy(Y[i][1:])\n",
    "Yn = np.array([i for _,i in Yn.items()])\n",
    "# print Yn.shape, Yn[0].shape, Y[0].shape\n",
    "for i in range(Y.shape[0]):\n",
    "    Ynd[i] = np.abs(Yn[i][1:] - Yn[i][:-1])\n",
    "    print np.sum(Ynd[i]), Ynd[i].shape\n",
    "    tmpind = Ynd[i] == 1\n",
    "    tmpind = [range(j-keep,j+keep) for j, v in enumerate(tmpind) if v]\n",
    "    tmpind = [item for sublist in tmpind for item in sublist if item < len(Ynd[i])]\n",
    "#     print tmpind\n",
    "    Yn[i][tmpind] = -1\n",
    "    plt.figure()\n",
    "    plt.plot(Yn[i])\n",
    "    plt.hold\n",
    "    print np.sum(Yn[i]==-1), np.sum(Yn[i]==0), np.sum(Yn[i]==1)"
   ]
  },
  {
   "cell_type": "code",
   "execution_count": 9,
   "metadata": {
    "collapsed": false,
    "deletable": true,
    "editable": true
   },
   "outputs": [
    {
     "ename": "MemoryError",
     "evalue": "",
     "output_type": "error",
     "traceback": [
      "\u001b[0;31m---------------------------------------------------------------------------\u001b[0m",
      "\u001b[0;31mMemoryError\u001b[0m                               Traceback (most recent call last)",
      "\u001b[0;32m<ipython-input-9-f18b5a849feb>\u001b[0m in \u001b[0;36m<module>\u001b[0;34m()\u001b[0m\n\u001b[1;32m      1\u001b[0m \u001b[0mlabel_spreading\u001b[0m \u001b[0;34m=\u001b[0m \u001b[0mLabelSpreading\u001b[0m\u001b[0;34m(\u001b[0m\u001b[0mgamma\u001b[0m \u001b[0;34m=\u001b[0m \u001b[0;36m20\u001b[0m\u001b[0;34m,\u001b[0m \u001b[0malpha\u001b[0m \u001b[0;34m=\u001b[0m \u001b[0;36m1\u001b[0m\u001b[0;34m,\u001b[0m \u001b[0mmax_iter\u001b[0m\u001b[0;34m=\u001b[0m\u001b[0;36m100\u001b[0m\u001b[0;34m,\u001b[0m \u001b[0mtol\u001b[0m\u001b[0;34m=\u001b[0m\u001b[0;36m0.01\u001b[0m\u001b[0;34m,\u001b[0m \u001b[0mn_jobs\u001b[0m\u001b[0;34m=\u001b[0m\u001b[0;34m-\u001b[0m\u001b[0;36m1\u001b[0m\u001b[0;34m)\u001b[0m\u001b[0;34m\u001b[0m\u001b[0m\n\u001b[0;32m----> 2\u001b[0;31m \u001b[0mlabel_spreading_md\u001b[0m \u001b[0;34m=\u001b[0m \u001b[0mlabel_spreading\u001b[0m\u001b[0;34m.\u001b[0m\u001b[0mfit\u001b[0m\u001b[0;34m(\u001b[0m\u001b[0mX\u001b[0m\u001b[0;34m[\u001b[0m\u001b[0;36m1\u001b[0m\u001b[0;34m]\u001b[0m\u001b[0;34m[\u001b[0m\u001b[0;36m1\u001b[0m\u001b[0;34m:\u001b[0m\u001b[0;34m,\u001b[0m\u001b[0;34m:\u001b[0m\u001b[0;34m]\u001b[0m\u001b[0;34m,\u001b[0m \u001b[0mYn\u001b[0m\u001b[0;34m[\u001b[0m\u001b[0;36m1\u001b[0m\u001b[0;34m]\u001b[0m\u001b[0;34m[\u001b[0m\u001b[0;34m:\u001b[0m\u001b[0;34m]\u001b[0m\u001b[0;34m)\u001b[0m\u001b[0;34m\u001b[0m\u001b[0m\n\u001b[0m\u001b[1;32m      3\u001b[0m \u001b[0mpredicted\u001b[0m \u001b[0;34m=\u001b[0m \u001b[0mlabel_spreading\u001b[0m\u001b[0;34m.\u001b[0m\u001b[0mpredict\u001b[0m\u001b[0;34m(\u001b[0m\u001b[0mX\u001b[0m\u001b[0;34m[\u001b[0m\u001b[0;36m1\u001b[0m\u001b[0;34m]\u001b[0m\u001b[0;34m)\u001b[0m\u001b[0;34m\u001b[0m\u001b[0m\n\u001b[1;32m      4\u001b[0m \u001b[0mscore\u001b[0m \u001b[0;34m=\u001b[0m \u001b[0mlabel_spreading\u001b[0m\u001b[0;34m.\u001b[0m\u001b[0mscore\u001b[0m\u001b[0;34m(\u001b[0m\u001b[0mX\u001b[0m\u001b[0;34m[\u001b[0m\u001b[0;36m1\u001b[0m\u001b[0;34m]\u001b[0m\u001b[0;34m,\u001b[0m\u001b[0mY\u001b[0m\u001b[0;34m[\u001b[0m\u001b[0;36m1\u001b[0m\u001b[0;34m]\u001b[0m\u001b[0;34m)\u001b[0m \u001b[0;31m# y_labelled = ta prohgoumena labels sou\u001b[0m\u001b[0;34m\u001b[0m\u001b[0m\n\u001b[1;32m      5\u001b[0m \u001b[0;32mprint\u001b[0m \u001b[0mscore\u001b[0m\u001b[0;34m\u001b[0m\u001b[0m\n",
      "\u001b[0;32m/home/jagrio/.local/lib/python2.7/site-packages/sklearn/semi_supervised/label_propagation.pyc\u001b[0m in \u001b[0;36mfit\u001b[0;34m(self, X, y)\u001b[0m\n\u001b[1;32m    224\u001b[0m \u001b[0;34m\u001b[0m\u001b[0m\n\u001b[1;32m    225\u001b[0m         \u001b[0;31m# actual graph construction (implementations should override this)\u001b[0m\u001b[0;34m\u001b[0m\u001b[0;34m\u001b[0m\u001b[0m\n\u001b[0;32m--> 226\u001b[0;31m         \u001b[0mgraph_matrix\u001b[0m \u001b[0;34m=\u001b[0m \u001b[0mself\u001b[0m\u001b[0;34m.\u001b[0m\u001b[0m_build_graph\u001b[0m\u001b[0;34m(\u001b[0m\u001b[0;34m)\u001b[0m\u001b[0;34m\u001b[0m\u001b[0m\n\u001b[0m\u001b[1;32m    227\u001b[0m \u001b[0;34m\u001b[0m\u001b[0m\n\u001b[1;32m    228\u001b[0m         \u001b[0;31m# label construction\u001b[0m\u001b[0;34m\u001b[0m\u001b[0;34m\u001b[0m\u001b[0m\n",
      "\u001b[0;32m/home/jagrio/.local/lib/python2.7/site-packages/sklearn/semi_supervised/label_propagation.pyc\u001b[0m in \u001b[0;36m_build_graph\u001b[0;34m(self)\u001b[0m\n\u001b[1;32m    455\u001b[0m         \u001b[0maffinity_matrix\u001b[0m \u001b[0;34m=\u001b[0m \u001b[0mself\u001b[0m\u001b[0;34m.\u001b[0m\u001b[0m_get_kernel\u001b[0m\u001b[0;34m(\u001b[0m\u001b[0mself\u001b[0m\u001b[0;34m.\u001b[0m\u001b[0mX_\u001b[0m\u001b[0;34m)\u001b[0m\u001b[0;34m\u001b[0m\u001b[0m\n\u001b[1;32m    456\u001b[0m         \u001b[0mlaplacian\u001b[0m \u001b[0;34m=\u001b[0m \u001b[0mgraph_laplacian\u001b[0m\u001b[0;34m(\u001b[0m\u001b[0maffinity_matrix\u001b[0m\u001b[0;34m,\u001b[0m \u001b[0mnormed\u001b[0m\u001b[0;34m=\u001b[0m\u001b[0mTrue\u001b[0m\u001b[0;34m)\u001b[0m\u001b[0;34m\u001b[0m\u001b[0m\n\u001b[0;32m--> 457\u001b[0;31m         \u001b[0mlaplacian\u001b[0m \u001b[0;34m=\u001b[0m \u001b[0;34m-\u001b[0m\u001b[0mlaplacian\u001b[0m\u001b[0;34m\u001b[0m\u001b[0m\n\u001b[0m\u001b[1;32m    458\u001b[0m         \u001b[0;32mif\u001b[0m \u001b[0msparse\u001b[0m\u001b[0;34m.\u001b[0m\u001b[0misspmatrix\u001b[0m\u001b[0;34m(\u001b[0m\u001b[0mlaplacian\u001b[0m\u001b[0;34m)\u001b[0m\u001b[0;34m:\u001b[0m\u001b[0;34m\u001b[0m\u001b[0m\n\u001b[1;32m    459\u001b[0m             \u001b[0mdiag_mask\u001b[0m \u001b[0;34m=\u001b[0m \u001b[0;34m(\u001b[0m\u001b[0mlaplacian\u001b[0m\u001b[0;34m.\u001b[0m\u001b[0mrow\u001b[0m \u001b[0;34m==\u001b[0m \u001b[0mlaplacian\u001b[0m\u001b[0;34m.\u001b[0m\u001b[0mcol\u001b[0m\u001b[0;34m)\u001b[0m\u001b[0;34m\u001b[0m\u001b[0m\n",
      "\u001b[0;31mMemoryError\u001b[0m: "
     ]
    }
   ],
   "source": [
    "label_spreading = LabelSpreading(gamma = 20, alpha = 1, max_iter=100, tol=0.01, n_jobs=-1)\n",
    "label_spreading_md = label_spreading.fit(X[1][1:,:], Yn[1][:])\n",
    "predicted = label_spreading.predict(X[1])\n",
    "score = label_spreading.score(X[1],Y[1]) # y_labelled = ta prohgoumena labels sou \n",
    "print score\n",
    "plt.figure()\n",
    "plt.hist(predicted)"
   ]
  },
  {
   "cell_type": "code",
   "execution_count": null,
   "metadata": {
    "collapsed": true,
    "deletable": true,
    "editable": true
   },
   "outputs": [],
   "source": [
    "rng = np.random.RandomState(0)\n",
    "indices = np.arange(len(x_train))\n",
    "rng.shuffle(indices)\n",
    "\n",
    "n_total_train_samples = len(y_train)\n",
    "pr = 0.1 #percentages to be kept labeled\n",
    "n_labeled_points =int(np.ceil(pr*len(y_train)))\n",
    "#         print(\"Number of labeled points : %d\" %n_labeled_points)\n",
    "\n",
    "x = x_train[indices[:n_total_train_samples]] #shuffled data\n",
    "y1 = y_train[indices[:n_total_train_samples]]\n",
    "\n",
    "indices = np.arange(n_total_train_samples)  #indices previously defined have been shuffled, recompute       \n",
    "unlabeled_set = indices[n_labeled_points:]\n",
    "y_tr = np.copy(y1)\n",
    "y_tr[unlabeled_set] = -1"
   ]
  },
  {
   "cell_type": "code",
   "execution_count": 8,
   "metadata": {
    "collapsed": false,
    "deletable": true,
    "editable": true
   },
   "outputs": [],
   "source": [
    "x2 = np.copy(X[1])\n",
    "y2 = np.copy(Y[1])\n",
    "x3 = np.copy(X[0])\n",
    "y3 = np.copy(Y[0])\n",
    "x2 = x2[0: :10] ; y2 = y2[0: :10]\n",
    "x3 = x3[5: :1] ; y3 = y3[5: :1]\n",
    "# print(x2.shape)\n",
    "x2 = np.delete(x2,[8,534,1046,1050,3116,3642,4154,4158],1)\n",
    "x3 = np.delete(x3,[8,534,1046,1050,3116,3642,4154,4158],1)"
   ]
  },
  {
   "cell_type": "code",
   "execution_count": 8,
   "metadata": {
    "collapsed": false,
    "deletable": true,
    "editable": true,
    "scrolled": false
   },
   "outputs": [
    {
     "name": "stdout",
     "output_type": "stream",
     "text": [
      "ACHTUNG! You need to use fit2 for multiple best models!\n"
     ]
    },
    {
     "ename": "KeyboardInterrupt",
     "evalue": "",
     "output_type": "error",
     "traceback": [
      "\u001b[0;31m---------------------------------------------------------------------------\u001b[0m",
      "\u001b[0;31mKeyboardInterrupt\u001b[0m                         Traceback (most recent call last)",
      "\u001b[0;32m<ipython-input-8-d643ce9b8be5>\u001b[0m in \u001b[0;36m<module>\u001b[0;34m()\u001b[0m\n\u001b[1;32m     13\u001b[0m \u001b[0mparams\u001b[0m \u001b[0;34m=\u001b[0m \u001b[0;34m{\u001b[0m\u001b[0;34m'feature_selection__k'\u001b[0m \u001b[0;34m:\u001b[0m \u001b[0mrange\u001b[0m\u001b[0;34m(\u001b[0m\u001b[0;36m20\u001b[0m\u001b[0;34m,\u001b[0m\u001b[0mx2\u001b[0m\u001b[0;34m.\u001b[0m\u001b[0mshape\u001b[0m\u001b[0;34m[\u001b[0m\u001b[0;36m1\u001b[0m\u001b[0;34m]\u001b[0m\u001b[0;34m,\u001b[0m\u001b[0;36m20\u001b[0m\u001b[0;34m)\u001b[0m\u001b[0;34m,\u001b[0m \u001b[0;34m'decomp__n_components'\u001b[0m\u001b[0;34m:\u001b[0m\u001b[0;34m[\u001b[0m\u001b[0;36m20\u001b[0m\u001b[0;34m]\u001b[0m\u001b[0;34m,\u001b[0m \u001b[0;34m'classifier__kernel'\u001b[0m \u001b[0;34m:\u001b[0m \u001b[0;34m[\u001b[0m\u001b[0;34m'rbf'\u001b[0m\u001b[0;34m]\u001b[0m\u001b[0;34m,\u001b[0m \u001b[0;34m'classifier__C'\u001b[0m\u001b[0;34m:\u001b[0m \u001b[0;34m[\u001b[0m\u001b[0;36m1\u001b[0m\u001b[0;34m]\u001b[0m\u001b[0;34m,\u001b[0m \u001b[0;34m'classifier__gamma'\u001b[0m\u001b[0;34m:\u001b[0m \u001b[0;34m[\u001b[0m\u001b[0;34m'auto'\u001b[0m\u001b[0;34m]\u001b[0m\u001b[0;34m}\u001b[0m\u001b[0;34m\u001b[0m\u001b[0m\n\u001b[1;32m     14\u001b[0m \u001b[0mnest\u001b[0m\u001b[0;34m.\u001b[0m\u001b[0mset_pipe\u001b[0m\u001b[0;34m(\u001b[0m\u001b[0mpip_params\u001b[0m\u001b[0;34m=\u001b[0m \u001b[0mparams\u001b[0m\u001b[0;34m,\u001b[0m \u001b[0mpip_steps\u001b[0m\u001b[0;34m=\u001b[0m\u001b[0msteps\u001b[0m\u001b[0;34m)\u001b[0m\u001b[0;34m\u001b[0m\u001b[0m\n\u001b[0;32m---> 15\u001b[0;31m \u001b[0mnest\u001b[0m\u001b[0;34m.\u001b[0m\u001b[0mfit\u001b[0m\u001b[0;34m(\u001b[0m\u001b[0mx2\u001b[0m\u001b[0;34m,\u001b[0m\u001b[0my2\u001b[0m\u001b[0;34m)\u001b[0m\u001b[0;34m\u001b[0m\u001b[0m\n\u001b[0m",
      "\u001b[0;32m<ipython-input-3-2ddb7c041746>\u001b[0m in \u001b[0;36mfit\u001b[0;34m(self, x_tot, y_tot, verbose)\u001b[0m\n\u001b[1;32m     24\u001b[0m         \u001b[0;32mif\u001b[0m \u001b[0mself\u001b[0m\u001b[0;34m.\u001b[0m\u001b[0mn_top\u001b[0m \u001b[0;34m>\u001b[0m\u001b[0;36m1\u001b[0m \u001b[0;34m:\u001b[0m\u001b[0;34m\u001b[0m\u001b[0m\n\u001b[1;32m     25\u001b[0m             \u001b[0;32mprint\u001b[0m \u001b[0;34m(\u001b[0m\u001b[0;34m\"ACHTUNG! You need to use fit2 for multiple best models!\"\u001b[0m\u001b[0;34m)\u001b[0m\u001b[0;34m\u001b[0m\u001b[0m\n\u001b[0;32m---> 26\u001b[0;31m             \u001b[0mself\u001b[0m\u001b[0;34m.\u001b[0m\u001b[0mfit2\u001b[0m\u001b[0;34m(\u001b[0m\u001b[0mx_tot\u001b[0m\u001b[0;34m,\u001b[0m\u001b[0my_tot\u001b[0m\u001b[0;34m)\u001b[0m\u001b[0;34m\u001b[0m\u001b[0m\n\u001b[0m\u001b[1;32m     27\u001b[0m         \u001b[0;32melse\u001b[0m\u001b[0;34m:\u001b[0m\u001b[0;34m\u001b[0m\u001b[0m\n\u001b[1;32m     28\u001b[0m             \u001b[0mself\u001b[0m\u001b[0;34m.\u001b[0m\u001b[0mouter_cv\u001b[0m \u001b[0;34m=\u001b[0m \u001b[0mStratifiedKFold\u001b[0m\u001b[0;34m(\u001b[0m\u001b[0mn_splits\u001b[0m \u001b[0;34m=\u001b[0m \u001b[0mself\u001b[0m\u001b[0;34m.\u001b[0m\u001b[0mn_outer_folds\u001b[0m\u001b[0;34m,\u001b[0m \u001b[0mshuffle\u001b[0m \u001b[0;34m=\u001b[0m \u001b[0mTrue\u001b[0m\u001b[0;34m,\u001b[0m \u001b[0mrandom_state\u001b[0m \u001b[0;34m=\u001b[0m \u001b[0mself\u001b[0m\u001b[0;34m.\u001b[0m\u001b[0mstate\u001b[0m\u001b[0;34m)\u001b[0m\u001b[0;34m\u001b[0m\u001b[0m\n",
      "\u001b[0;32m<ipython-input-3-2ddb7c041746>\u001b[0m in \u001b[0;36mfit2\u001b[0;34m(self, x_tot, y_tot)\u001b[0m\n\u001b[1;32m    128\u001b[0m                     \u001b[0mself\u001b[0m\u001b[0;34m.\u001b[0m\u001b[0my_trn_in\u001b[0m\u001b[0;34m,\u001b[0m \u001b[0mself\u001b[0m\u001b[0;34m.\u001b[0m\u001b[0my_tst_in\u001b[0m \u001b[0;34m=\u001b[0m \u001b[0mself\u001b[0m\u001b[0;34m.\u001b[0m\u001b[0my_trn_out\u001b[0m\u001b[0;34m[\u001b[0m\u001b[0mself\u001b[0m\u001b[0;34m.\u001b[0m\u001b[0mtrain_ind_in\u001b[0m\u001b[0;34m]\u001b[0m\u001b[0;34m,\u001b[0m \u001b[0mself\u001b[0m\u001b[0;34m.\u001b[0m\u001b[0my_trn_out\u001b[0m\u001b[0;34m[\u001b[0m\u001b[0mself\u001b[0m\u001b[0;34m.\u001b[0m\u001b[0mtest_ind_in\u001b[0m\u001b[0;34m]\u001b[0m\u001b[0;34m\u001b[0m\u001b[0m\n\u001b[1;32m    129\u001b[0m                     \u001b[0mself\u001b[0m\u001b[0;34m.\u001b[0m\u001b[0mpip\u001b[0m \u001b[0;34m=\u001b[0m \u001b[0mself\u001b[0m\u001b[0;34m.\u001b[0m\u001b[0mpipe\u001b[0m\u001b[0;34m.\u001b[0m\u001b[0mset_params\u001b[0m\u001b[0;34m(\u001b[0m\u001b[0;34m**\u001b[0m\u001b[0mself\u001b[0m\u001b[0;34m.\u001b[0m\u001b[0mclf\u001b[0m\u001b[0;34m)\u001b[0m\u001b[0;34m\u001b[0m\u001b[0m\n\u001b[0;32m--> 130\u001b[0;31m                     \u001b[0mself\u001b[0m\u001b[0;34m.\u001b[0m\u001b[0mpip\u001b[0m\u001b[0;34m.\u001b[0m\u001b[0mfit\u001b[0m\u001b[0;34m(\u001b[0m\u001b[0mself\u001b[0m\u001b[0;34m.\u001b[0m\u001b[0mx_trn_in\u001b[0m\u001b[0;34m,\u001b[0m\u001b[0mself\u001b[0m\u001b[0;34m.\u001b[0m\u001b[0my_trn_in\u001b[0m\u001b[0;34m)\u001b[0m\u001b[0;34m\u001b[0m\u001b[0m\n\u001b[0m\u001b[1;32m    131\u001b[0m                     \u001b[0mself\u001b[0m\u001b[0;34m.\u001b[0m\u001b[0minner_scores\u001b[0m\u001b[0;34m[\u001b[0m\u001b[0mself\u001b[0m\u001b[0;34m.\u001b[0m\u001b[0mcl_ind\u001b[0m\u001b[0;34m]\u001b[0m\u001b[0;34m[\u001b[0m\u001b[0mself\u001b[0m\u001b[0;34m.\u001b[0m\u001b[0mfold_in\u001b[0m\u001b[0;34m]\u001b[0m \u001b[0;34m=\u001b[0m \u001b[0mself\u001b[0m\u001b[0;34m.\u001b[0m\u001b[0mpip\u001b[0m\u001b[0;34m.\u001b[0m\u001b[0mscore\u001b[0m\u001b[0;34m(\u001b[0m\u001b[0mself\u001b[0m\u001b[0;34m.\u001b[0m\u001b[0mx_tst_in\u001b[0m\u001b[0;34m,\u001b[0m \u001b[0mself\u001b[0m\u001b[0;34m.\u001b[0m\u001b[0my_tst_in\u001b[0m\u001b[0;34m)\u001b[0m\u001b[0;34m\u001b[0m\u001b[0m\n\u001b[1;32m    132\u001b[0m \u001b[0;34m\u001b[0m\u001b[0m\n",
      "\u001b[0;32m/home/jagrio/.local/lib/python2.7/site-packages/sklearn/pipeline.pyc\u001b[0m in \u001b[0;36mfit\u001b[0;34m(self, X, y, **fit_params)\u001b[0m\n\u001b[1;32m    266\u001b[0m             \u001b[0mThis\u001b[0m \u001b[0mestimator\u001b[0m\u001b[0;34m\u001b[0m\u001b[0m\n\u001b[1;32m    267\u001b[0m         \"\"\"\n\u001b[0;32m--> 268\u001b[0;31m         \u001b[0mXt\u001b[0m\u001b[0;34m,\u001b[0m \u001b[0mfit_params\u001b[0m \u001b[0;34m=\u001b[0m \u001b[0mself\u001b[0m\u001b[0;34m.\u001b[0m\u001b[0m_fit\u001b[0m\u001b[0;34m(\u001b[0m\u001b[0mX\u001b[0m\u001b[0;34m,\u001b[0m \u001b[0my\u001b[0m\u001b[0;34m,\u001b[0m \u001b[0;34m**\u001b[0m\u001b[0mfit_params\u001b[0m\u001b[0;34m)\u001b[0m\u001b[0;34m\u001b[0m\u001b[0m\n\u001b[0m\u001b[1;32m    269\u001b[0m         \u001b[0;32mif\u001b[0m \u001b[0mself\u001b[0m\u001b[0;34m.\u001b[0m\u001b[0m_final_estimator\u001b[0m \u001b[0;32mis\u001b[0m \u001b[0;32mnot\u001b[0m \u001b[0mNone\u001b[0m\u001b[0;34m:\u001b[0m\u001b[0;34m\u001b[0m\u001b[0m\n\u001b[1;32m    270\u001b[0m             \u001b[0mself\u001b[0m\u001b[0;34m.\u001b[0m\u001b[0m_final_estimator\u001b[0m\u001b[0;34m.\u001b[0m\u001b[0mfit\u001b[0m\u001b[0;34m(\u001b[0m\u001b[0mXt\u001b[0m\u001b[0;34m,\u001b[0m \u001b[0my\u001b[0m\u001b[0;34m,\u001b[0m \u001b[0;34m**\u001b[0m\u001b[0mfit_params\u001b[0m\u001b[0;34m)\u001b[0m\u001b[0;34m\u001b[0m\u001b[0m\n",
      "\u001b[0;32m/home/jagrio/.local/lib/python2.7/site-packages/sklearn/pipeline.pyc\u001b[0m in \u001b[0;36m_fit\u001b[0;34m(self, X, y, **fit_params)\u001b[0m\n\u001b[1;32m    232\u001b[0m                 \u001b[0;32mpass\u001b[0m\u001b[0;34m\u001b[0m\u001b[0m\n\u001b[1;32m    233\u001b[0m             \u001b[0;32melif\u001b[0m \u001b[0mhasattr\u001b[0m\u001b[0;34m(\u001b[0m\u001b[0mtransform\u001b[0m\u001b[0;34m,\u001b[0m \u001b[0;34m\"fit_transform\"\u001b[0m\u001b[0;34m)\u001b[0m\u001b[0;34m:\u001b[0m\u001b[0;34m\u001b[0m\u001b[0m\n\u001b[0;32m--> 234\u001b[0;31m                 \u001b[0mXt\u001b[0m \u001b[0;34m=\u001b[0m \u001b[0mtransform\u001b[0m\u001b[0;34m.\u001b[0m\u001b[0mfit_transform\u001b[0m\u001b[0;34m(\u001b[0m\u001b[0mXt\u001b[0m\u001b[0;34m,\u001b[0m \u001b[0my\u001b[0m\u001b[0;34m,\u001b[0m \u001b[0;34m**\u001b[0m\u001b[0mfit_params_steps\u001b[0m\u001b[0;34m[\u001b[0m\u001b[0mname\u001b[0m\u001b[0;34m]\u001b[0m\u001b[0;34m)\u001b[0m\u001b[0;34m\u001b[0m\u001b[0m\n\u001b[0m\u001b[1;32m    235\u001b[0m             \u001b[0;32melse\u001b[0m\u001b[0;34m:\u001b[0m\u001b[0;34m\u001b[0m\u001b[0m\n\u001b[1;32m    236\u001b[0m                 \u001b[0mXt\u001b[0m \u001b[0;34m=\u001b[0m \u001b[0mtransform\u001b[0m\u001b[0;34m.\u001b[0m\u001b[0mfit\u001b[0m\u001b[0;34m(\u001b[0m\u001b[0mXt\u001b[0m\u001b[0;34m,\u001b[0m \u001b[0my\u001b[0m\u001b[0;34m,\u001b[0m \u001b[0;34m**\u001b[0m\u001b[0mfit_params_steps\u001b[0m\u001b[0;34m[\u001b[0m\u001b[0mname\u001b[0m\u001b[0;34m]\u001b[0m\u001b[0;34m)\u001b[0m\u001b[0;31m \u001b[0m\u001b[0;31m\\\u001b[0m\u001b[0;34m\u001b[0m\u001b[0m\n",
      "\u001b[0;32m/home/jagrio/.local/lib/python2.7/site-packages/sklearn/decomposition/pca.pyc\u001b[0m in \u001b[0;36mfit_transform\u001b[0;34m(self, X, y)\u001b[0m\n\u001b[1;32m    322\u001b[0m \u001b[0;34m\u001b[0m\u001b[0m\n\u001b[1;32m    323\u001b[0m         \"\"\"\n\u001b[0;32m--> 324\u001b[0;31m         \u001b[0mU\u001b[0m\u001b[0;34m,\u001b[0m \u001b[0mS\u001b[0m\u001b[0;34m,\u001b[0m \u001b[0mV\u001b[0m \u001b[0;34m=\u001b[0m \u001b[0mself\u001b[0m\u001b[0;34m.\u001b[0m\u001b[0m_fit\u001b[0m\u001b[0;34m(\u001b[0m\u001b[0mX\u001b[0m\u001b[0;34m)\u001b[0m\u001b[0;34m\u001b[0m\u001b[0m\n\u001b[0m\u001b[1;32m    325\u001b[0m         \u001b[0mU\u001b[0m \u001b[0;34m=\u001b[0m \u001b[0mU\u001b[0m\u001b[0;34m[\u001b[0m\u001b[0;34m:\u001b[0m\u001b[0;34m,\u001b[0m \u001b[0;34m:\u001b[0m\u001b[0mself\u001b[0m\u001b[0;34m.\u001b[0m\u001b[0mn_components_\u001b[0m\u001b[0;34m]\u001b[0m\u001b[0;34m\u001b[0m\u001b[0m\n\u001b[1;32m    326\u001b[0m \u001b[0;34m\u001b[0m\u001b[0m\n",
      "\u001b[0;32m/home/jagrio/.local/lib/python2.7/site-packages/sklearn/decomposition/pca.pyc\u001b[0m in \u001b[0;36m_fit\u001b[0;34m(self, X)\u001b[0m\n\u001b[1;32m    344\u001b[0m \u001b[0;34m\u001b[0m\u001b[0m\n\u001b[1;32m    345\u001b[0m         X = check_array(X, dtype=[np.float64], ensure_2d=True,\n\u001b[0;32m--> 346\u001b[0;31m                         copy=self.copy)\n\u001b[0m\u001b[1;32m    347\u001b[0m \u001b[0;34m\u001b[0m\u001b[0m\n\u001b[1;32m    348\u001b[0m         \u001b[0;31m# Handle n_components==None\u001b[0m\u001b[0;34m\u001b[0m\u001b[0;34m\u001b[0m\u001b[0m\n",
      "\u001b[0;32m/home/jagrio/.local/lib/python2.7/site-packages/sklearn/utils/validation.pyc\u001b[0m in \u001b[0;36mcheck_array\u001b[0;34m(array, accept_sparse, dtype, order, copy, force_all_finite, ensure_2d, allow_nd, ensure_min_samples, ensure_min_features, warn_on_dtype, estimator)\u001b[0m\n\u001b[1;32m    396\u001b[0m             \u001b[0marray\u001b[0m \u001b[0;34m=\u001b[0m \u001b[0mnp\u001b[0m\u001b[0;34m.\u001b[0m\u001b[0matleast_2d\u001b[0m\u001b[0;34m(\u001b[0m\u001b[0marray\u001b[0m\u001b[0;34m)\u001b[0m\u001b[0;34m\u001b[0m\u001b[0m\n\u001b[1;32m    397\u001b[0m             \u001b[0;31m# To ensure that array flags are maintained\u001b[0m\u001b[0;34m\u001b[0m\u001b[0;34m\u001b[0m\u001b[0m\n\u001b[0;32m--> 398\u001b[0;31m             \u001b[0marray\u001b[0m \u001b[0;34m=\u001b[0m \u001b[0mnp\u001b[0m\u001b[0;34m.\u001b[0m\u001b[0marray\u001b[0m\u001b[0;34m(\u001b[0m\u001b[0marray\u001b[0m\u001b[0;34m,\u001b[0m \u001b[0mdtype\u001b[0m\u001b[0;34m=\u001b[0m\u001b[0mdtype\u001b[0m\u001b[0;34m,\u001b[0m \u001b[0morder\u001b[0m\u001b[0;34m=\u001b[0m\u001b[0morder\u001b[0m\u001b[0;34m,\u001b[0m \u001b[0mcopy\u001b[0m\u001b[0;34m=\u001b[0m\u001b[0mcopy\u001b[0m\u001b[0;34m)\u001b[0m\u001b[0;34m\u001b[0m\u001b[0m\n\u001b[0m\u001b[1;32m    399\u001b[0m \u001b[0;34m\u001b[0m\u001b[0m\n\u001b[1;32m    400\u001b[0m         \u001b[0;31m# make sure we actually converted to numeric:\u001b[0m\u001b[0;34m\u001b[0m\u001b[0;34m\u001b[0m\u001b[0m\n",
      "\u001b[0;31mKeyboardInterrupt\u001b[0m: "
     ]
    }
   ],
   "source": [
    "x2 = np.copy(X[2])\n",
    "y2 = np.copy(Y[2])\n",
    "x3 = np.copy(X[2])\n",
    "y3 = np.copy(Y[2])\n",
    "x2 = x2[0: :10] ; y2 = y2[0: :10]\n",
    "x3 = x3[5: :10] ; y3 = y3[5: :10]\n",
    "# print(x2.shape)\n",
    "x2 = np.delete(x2,[8,534,1046,1050,3116,3642,4154,4158],1)\n",
    "x3 = np.delete(x3,[8,534,1046,1050,3116,3642,4154,4158],1)\n",
    "# print(x2.shape)\n",
    "nest = Nested_cv(n_outer_folds= 5, n_inner_folds =5, n_top=2, state = 2)\n",
    "steps = [StandardScaler(), SelectKBest(), PCA(), SVC()]\n",
    "params = {'feature_selection__k' : range(20,x2.shape[1],20), 'decomp__n_components':[20], 'classifier__kernel' : ['rbf'], 'classifier__C': [1], 'classifier__gamma': ['auto']}\n",
    "nest.set_pipe(pip_params= params, pip_steps=steps)\n",
    "nest.fit(x2,y2)"
   ]
  },
  {
   "cell_type": "code",
   "execution_count": 15,
   "metadata": {
    "collapsed": false,
    "deletable": true,
    "editable": true,
    "scrolled": false
   },
   "outputs": [
    {
     "name": "stdout",
     "output_type": "stream",
     "text": [
      "[   2    6    7 ..., 3121 3122 4152]\n",
      "['sf_meanabsslp' 'sf_rng' 'sf_wavl' ..., 'ftn_acrol0503' 'ftn_acrol0504'\n",
      " 'ftn_acrol1019']\n"
     ]
    }
   ],
   "source": [
    "# nest.print_feat_scores()\n",
    "best_feat_ind = np.where(nest.get_feat_scores() >= 1)[0]\n",
    "print best_feat_ind\n",
    "# best_features = nest.get_best_features()\n",
    "print np.array(namesf[2])[best_feat_ind]"
   ]
  },
  {
   "cell_type": "code",
   "execution_count": 22,
   "metadata": {
    "collapsed": false,
    "deletable": true,
    "editable": true
   },
   "outputs": [
    {
     "name": "stdout",
     "output_type": "stream",
     "text": [
      "[[ 0.26564885  0.73435115]\n",
      " [ 0.28224158  0.71775842]]\n"
     ]
    }
   ],
   "source": [
    "paramst = {'feature_selection__k' : 1000, 'decomp__n_components': 100, 'classifier__kernel' : 'rbf', 'classifier__C': 1000, 'classifier__gamma': 'auto'}\n",
    "test_pip = make_pipe_clf(feature_selection= SelectKBest(), clf= SVC(),decomp= PCA(), scaler= StandardScaler())\n",
    "# paramst = {'feature_selection__k' : 5000, 'decomp__n_components': 5000, 'classifier__solver': 'lbfgs', \n",
    "#            'classifier__alpha': 1e-4, 'classifier__hidden_layer_sizes': (100,100), \n",
    "#            'classifier__random_state': 1, 'classifier__verbose': True}\n",
    "# test_pip = make_pipe_clf(feature_selection= SelectKBest(), clf= MLPClassifier(),decomp= PCA(), scaler= StandardScaler())\n",
    "\n",
    "test_pip.set_params(**paramst)\n",
    "test_pip.fit(x2,y2)\n",
    "test_pip.score(x3,y3)\n",
    "cm = confusion_matrix(y_pred=test_pip.predict(x3), y_true=y3)\n",
    "cm = cm.astype('float') / cm.sum(axis=1)[:, np.newaxis]\n",
    "print cm"
   ]
  },
  {
   "cell_type": "code",
   "execution_count": null,
   "metadata": {
    "collapsed": true,
    "deletable": true,
    "editable": true
   },
   "outputs": [],
   "source": [
    "pipeline2 = Pipeline([('scaler', StandardScaler()),\n",
    "                    ('feature_selection', SelectKBest(k=20)) ])\n",
    "#/=\\/=\\Sent on:\n",
    "#\\    / 8:15 pm\n",
    "# \\  /From:\n",
    "#  \\/ Το κυβόργιο\n",
    "tsn = TSNE(n_components = 2,early_exaggeration=100, learning_rate = 800, init = 'pca' )\n",
    "# x_tsn2 = PCA(n_components=30).fit_transform(x2t,y2)\n",
    "spe = SpectralEmbedding(n_components = 20, affinity = 'rbf',gamma = 1e-3)\n",
    "# spe1 = SpectralEmbedding(n_components = 10, affinity = 'rbf',gamma = 1e-2)\n",
    "\n",
    "x2t = pipeline2.fit_transform(x2,y2)\n",
    "x0t = pipeline2.transform(x0)\n",
    "x1t = pipeline2.transform(x1)\n",
    "\n",
    "# X_tsn2 = vis_clf.fit_transform(x2t)\n",
    "X_spe0 = spe.fit_transform(x0t)\n",
    "X_spe1 = spe.fit_transform(x1t)\n",
    "X_spe2 = spe.fit_transform(x2t)\n",
    "\n",
    "# plt.plot(X_mds[0],X_mds[1])\n",
    "plt.figure(figsize=(8,8))\n",
    "plt.subplot(1,3,1)\n",
    "plt.scatter(X_spe1[:,0], X_spe1[:,1], c = y1, alpha = 0.3)\n",
    "plt.subplot(1,3,2)\n",
    "plt.scatter(X_spe2[:,0], X_spe2[:,1], c = y2, alpha = 0.3)\n",
    "plt.subplot(1,3,3)\n",
    "plt.scatter(X_spe0[:,0], X_spe0[:,1], c = y0, alpha = 0.3)"
   ]
  },
  {
   "cell_type": "code",
   "execution_count": 8,
   "metadata": {
    "collapsed": false,
    "deletable": true,
    "editable": true
   },
   "outputs": [
    {
     "name": "stdout",
     "output_type": "stream",
     "text": [
      "[[ 0.249499  0.750501]\n",
      " [ 0.        1.      ]]\n"
     ]
    }
   ],
   "source": [
    "# stepst = [StandardScaler(), SelectKBest(), PCA(), SVC()]\n",
    "paramst = {'feature_selection__k' : 2000, 'decomp__n_components': 20, 'classifier__kernel' : 'rbf', 'classifier__C': 100, 'classifier__gamma': 'auto'}\n",
    "test_pip = make_pipe_clf(feature_selection= SelectKBest(), clf= SVC(),decomp= PCA(), scaler= StandardScaler())\n",
    "test_pip.set_params(**paramst)\n",
    "test_pip.fit(x2,y2)\n",
    "test_pip.score(x3,y3)\n",
    "cm = confusion_matrix(y_pred=test_pip.predict(x3), y_true=y3)\n",
    "cm = cm.astype('float') / cm.sum(axis=1)[:, np.newaxis]\n",
    "print cm"
   ]
  },
  {
   "cell_type": "code",
   "execution_count": 89,
   "metadata": {
    "collapsed": false,
    "deletable": true,
    "editable": true
   },
   "outputs": [
    {
     "data": {
      "text/plain": [
       "Pipeline(steps=[('scaler', StandardScaler(copy=True, with_mean=True, with_std=True)), ('feature_selection', SelectKBest(k=750, score_func=<function f_classif at 0x7f5c3b19e2a8>)), ('decomp', PCA(copy=True, iterated_power='auto', n_components=50, random_state=None,\n",
       "  svd_solver='auto', tol=0.0, whiten=False))])"
      ]
     },
     "execution_count": 89,
     "metadata": {},
     "output_type": "execute_result"
    }
   ],
   "source": [
    "temp_pip = make_pipe(feature_selection=SelectKBest(), decomp = PCA(), scaler = StandardScaler(), order = 1)\n",
    "temp_params =  {'feature_selection__k' : 750, 'decomp__n_components': 50 }\n",
    "temp_pip.set_params(**temp_params)"
   ]
  },
  {
   "cell_type": "code",
   "execution_count": 92,
   "metadata": {
    "collapsed": false,
    "deletable": true,
    "editable": true
   },
   "outputs": [
    {
     "name": "stdout",
     "output_type": "stream",
     "text": [
      "(19874, 6208)\n",
      "(20057, 6208)\n",
      "(19782, 6208)\n"
     ]
    }
   ],
   "source": [
    "xtemp1 = np.delete(X[2],[8,534,1046,1050,3116,3642,4154,4158],1)\n",
    "print xtemp1.shape\n",
    "xtemp = temp_pip.fit_transform(xtemp1,Y[2])\n",
    "xtemp2 = np.delete(X[1],[8,534,1046,1050,3116,3642,4154,4158],1)\n",
    "print xtemp2.shape\n",
    "xtempt2 = temp_pip.transform(xtemp2)\n",
    "xtemp3 = np.delete(X[0],[8,534,1046,1050,3116,3642,4154,4158],1)\n",
    "print xtemp3.shape\n",
    "xtempt3 = temp_pip.transform(xtemp3)"
   ]
  },
  {
   "cell_type": "code",
   "execution_count": 99,
   "metadata": {
    "collapsed": false,
    "deletable": true,
    "editable": true
   },
   "outputs": [],
   "source": [
    "# xnew = np.copy(xtemp)\n",
    "xn, yn = time_form(xtemp,Y[2],0,0)\n",
    "xnt2 , ynt2 = time_form(xtempt2,Y[1],0,0)\n",
    "xnt3 , ynt3 = time_form(xtempt3,Y[0],0,0)\n",
    "# xn = np.concatenate((xnew[:-3,:],xnew[1:-2,:],xnew[2:-1,:],xnew[3:,:]),axis = 1)"
   ]
  },
  {
   "cell_type": "code",
   "execution_count": 101,
   "metadata": {
    "collapsed": false,
    "deletable": true,
    "editable": true
   },
   "outputs": [
    {
     "data": {
      "text/plain": [
       "(19874, 50)"
      ]
     },
     "execution_count": 101,
     "metadata": {},
     "output_type": "execute_result"
    }
   ],
   "source": [
    "xn.shape"
   ]
  },
  {
   "cell_type": "code",
   "execution_count": 100,
   "metadata": {
    "collapsed": false,
    "deletable": true,
    "editable": true
   },
   "outputs": [
    {
     "name": "stdout",
     "output_type": "stream",
     "text": [
      "0.894351099367\n",
      "0.923566878981\n"
     ]
    }
   ],
   "source": [
    "clf = SVC(kernel='rbf',C=1)\n",
    "clf.fit(xn,yn)\n",
    "print clf.score(xnt2,ynt2)\n",
    "print clf.score(xnt3,ynt3)"
   ]
  },
  {
   "cell_type": "code",
   "execution_count": 82,
   "metadata": {
    "collapsed": true,
    "deletable": true,
    "editable": true
   },
   "outputs": [],
   "source": [
    "c1 = clf.predict(xn)\n",
    "c2 = clf.predict(xnt3)"
   ]
  },
  {
   "cell_type": "code",
   "execution_count": 69,
   "metadata": {
    "collapsed": false,
    "deletable": true,
    "editable": true
   },
   "outputs": [],
   "source": [
    "xtemp2 = np.delete(X[1],[8,534,1046,1050,3116,3642,4154,4158],1)\n",
    "xtemp = temp_pip.transform(xtemp2)"
   ]
  },
  {
   "cell_type": "code",
   "execution_count": 70,
   "metadata": {
    "collapsed": true,
    "deletable": true,
    "editable": true
   },
   "outputs": [],
   "source": [
    "xnew = np.copy(xtemp)\n",
    "xn = np.concatenate((xnew[:-3,:],xnew[1:-2,:],xnew[2:-1,:],xnew[3:,:]),axis = 1)"
   ]
  },
  {
   "cell_type": "code",
   "execution_count": 12,
   "metadata": {
    "collapsed": true,
    "deletable": true,
    "editable": true
   },
   "outputs": [],
   "source": [
    "# X_train, X_test, y_train, y_test = train_test_split(\n",
    "#     xn, Y[1][3:], test_size=0.33, random_state=42)\n",
    "slcp = int(round(0.7*len(xn)))\n",
    "X_train, y_train = xn[:slcp,:], Y[2][3:3+slcp]\n",
    "X_test, y_test = xn[slcp:], Y[2][3+slcp:]"
   ]
  },
  {
   "cell_type": "code",
   "execution_count": 13,
   "metadata": {
    "collapsed": false,
    "deletable": true,
    "editable": true
   },
   "outputs": [
    {
     "data": {
      "text/plain": [
       "[<matplotlib.lines.Line2D at 0x7f5b84f0ec10>]"
      ]
     },
     "execution_count": 13,
     "metadata": {},
     "output_type": "execute_result"
    },
    {
     "data": {
      "image/png": "[encoded data removed]",
      "text/plain": [
       "<matplotlib.figure.Figure at 0x7f5b86078a50>"
      ]
     },
     "metadata": {},
     "output_type": "display_data"
    }
   ],
   "source": [
    "plt.plot(normalize(X_train))\n",
    "plt.hold\n",
    "plt.plot(y_train)"
   ]
  },
  {
   "cell_type": "code",
   "execution_count": 14,
   "metadata": {
    "collapsed": false,
    "deletable": true,
    "editable": true
   },
   "outputs": [
    {
     "data": {
      "text/plain": [
       "0.75977185036067774"
      ]
     },
     "execution_count": 14,
     "metadata": {},
     "output_type": "execute_result"
    }
   ],
   "source": [
    "clf = SVC(kernel='rbf',C=1)\n",
    "clf.fit(X_train,y_train)\n",
    "clf.score(X_test,y_test)"
   ]
  },
  {
   "cell_type": "code",
   "execution_count": 83,
   "metadata": {
    "collapsed": false,
    "deletable": true,
    "editable": true
   },
   "outputs": [
    {
     "name": "stdout",
     "output_type": "stream",
     "text": [
      "             precision    recall  f1-score   support\n",
      "\n",
      "        0.0       0.69      0.42      0.53     10180\n",
      "        1.0       0.57      0.80      0.67      9691\n",
      "\n",
      "avg / total       0.63      0.61      0.59     19871\n",
      "\n",
      "             precision    recall  f1-score   support\n",
      "\n",
      "        0.0       0.40      0.17      0.24     10482\n",
      "        1.0       0.43      0.71      0.54      9297\n",
      "\n",
      "avg / total       0.42      0.43      0.38     19779\n",
      "\n"
     ]
    }
   ],
   "source": [
    "print(classification_report(y_pred=c1, y_true=yn))\n",
    "print(classification_report(y_pred=c2, y_true=ynt3))"
   ]
  },
  {
   "cell_type": "code",
   "execution_count": 84,
   "metadata": {
    "collapsed": false,
    "deletable": true,
    "editable": true
   },
   "outputs": [
    {
     "name": "stdout",
     "output_type": "stream",
     "text": [
      "[[ 0.42416503  0.57583497]\n",
      " [ 0.19853472  0.80146528]]\n",
      "[[ 0.1743942   0.8256058 ]\n",
      " [ 0.28955577  0.71044423]]\n"
     ]
    }
   ],
   "source": [
    "cm = confusion_matrix(y_pred=c1, y_true=yn)\n",
    "cm = cm.astype('float') / cm.sum(axis=1)[:, np.newaxis]\n",
    "print cm\n",
    "cm = confusion_matrix(y_pred=c2, y_true=ynt3)\n",
    "cm = cm.astype('float') / cm.sum(axis=1)[:, np.newaxis]\n",
    "print cm"
   ]
  },
  {
   "cell_type": "code",
   "execution_count": null,
   "metadata": {
    "collapsed": true,
    "deletable": true,
    "editable": true
   },
   "outputs": [],
   "source": []
  }
 ],
 "metadata": {
  "kernelspec": {
   "display_name": "Python 2",
   "language": "python",
   "name": "python2"
  },
  "language_info": {
   "codemirror_mode": {
    "name": "ipython",
    "version": 2
   },
   "file_extension": ".py",
   "mimetype": "text/x-python",
   "name": "python",
   "nbconvert_exporter": "python",
   "pygments_lexer": "ipython2",
   "version": "2.7.12"
  }
 },
 "nbformat": 4,
 "nbformat_minor": 2
}
