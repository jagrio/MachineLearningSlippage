{
 "cells": [
  {
   "cell_type": "code",
   "execution_count": 15,
   "metadata": {
    "scrolled": false
   },
   "outputs": [
    {
     "name": "stdout",
     "output_type": "stream",
     "text": [
      "0 0 (867, 803) (867,) 0 KNeighborsClassifier(algorithm='auto', leaf_size=30, metric='minkowski',\n",
      "           metric_params=None, n_jobs=1, n_neighbors=5, p=2,\n",
      "           weights='uniform')\n",
      "Fitting 5 folds for each of 21 candidates, totalling 105 fits\n"
     ]
    },
    {
     "name": "stderr",
     "output_type": "stream",
     "text": [
      "[Parallel(n_jobs=2)]: Done  46 tasks      | elapsed:  1.7min\n",
      "[Parallel(n_jobs=2)]: Done 105 out of 105 | elapsed:  4.1min finished\n"
     ]
    },
    {
     "name": "stdout",
     "output_type": "stream",
     "text": [
      "------ Grid search cv results for NearNb ------\n",
      "Best score: 0.6943\n",
      "Best parameters set:\n",
      "\tclassifier__n_neighbors: 3\n",
      "\tfeature_selection__k: 500\n",
      "\tfeature_selection__score_func: <function mutual_info_classif at 0x7f196dfb8ed8>\n",
      "0 0 (867, 803) (867,) 1 SVC(C=1, cache_size=200, class_weight=None, coef0=0.0,\n",
      "  decision_function_shape=None, degree=3, gamma='auto', kernel='rbf',\n",
      "  max_iter=-1, probability=False, random_state=None, shrinking=True,\n",
      "  tol=0.001, verbose=False)\n",
      "Fitting 5 folds for each of 18 candidates, totalling 90 fits\n"
     ]
    },
    {
     "name": "stderr",
     "output_type": "stream",
     "text": [
      "[Parallel(n_jobs=2)]: Done  46 tasks      | elapsed:  2.0min\n",
      "[Parallel(n_jobs=2)]: Done  90 out of  90 | elapsed:  3.7min finished\n"
     ]
    },
    {
     "name": "stdout",
     "output_type": "stream",
     "text": [
      "------ Grid search cv results for RBFSVM1 ------\n",
      "Best score: 0.6459\n",
      "Best parameters set:\n",
      "\tclassifier__C: 10\n",
      "\tclassifier__kernel: 'rbf'\n",
      "\tfeature_selection__k: 500\n",
      "\tfeature_selection__score_func: <function mutual_info_classif at 0x7f196dfb8ed8>\n",
      "0 0 (867, 803) (867,) 2 MLPClassifier(activation='relu', alpha=0.0001, batch_size='auto', beta_1=0.9,\n",
      "       beta_2=0.999, early_stopping=False, epsilon=1e-08,\n",
      "       hidden_layer_sizes=(10, 10), learning_rate='constant',\n",
      "       learning_rate_init=0.001, max_iter=200, momentum=0.9,\n",
      "       nesterovs_momentum=True, power_t=0.5, random_state=1, shuffle=True,\n",
      "       solver='lbfgs', tol=0.0001, validation_fraction=0.1, verbose=True,\n",
      "       warm_start=False)\n",
      "Fitting 5 folds for each of 18 candidates, totalling 90 fits\n"
     ]
    },
    {
     "name": "stderr",
     "output_type": "stream",
     "text": [
      "[Parallel(n_jobs=2)]: Done  46 tasks      | elapsed:  2.6min\n",
      "[Parallel(n_jobs=2)]: Done  90 out of  90 | elapsed:  5.4min finished\n"
     ]
    },
    {
     "name": "stdout",
     "output_type": "stream",
     "text": [
      "------ Grid search cv results for MLP1 ------\n",
      "Best score: 0.6943\n",
      "Best parameters set:\n",
      "\tclassifier__alpha: 1e-05\n",
      "\tclassifier__hidden_layer_sizes: (10, 10)\n",
      "\tclassifier__solver: 'lbfgs'\n",
      "\tfeature_selection__k: 500\n",
      "\tfeature_selection__score_func: <function mutual_info_classif at 0x7f196dfb8ed8>\n",
      "0 1 (867, 803) (867,) 0 KNeighborsClassifier(algorithm='auto', leaf_size=30, metric='minkowski',\n",
      "           metric_params=None, n_jobs=1, n_neighbors=5, p=2,\n",
      "           weights='uniform')\n",
      "Fitting 5 folds for each of 21 candidates, totalling 105 fits\n"
     ]
    },
    {
     "name": "stderr",
     "output_type": "stream",
     "text": [
      "[Parallel(n_jobs=2)]: Done  46 tasks      | elapsed:  1.9min\n",
      "[Parallel(n_jobs=2)]: Done 105 out of 105 | elapsed:  4.2min finished\n"
     ]
    },
    {
     "name": "stdout",
     "output_type": "stream",
     "text": [
      "------ Grid search cv results for NearNb ------\n",
      "Best score: 0.8674\n",
      "Best parameters set:\n",
      "\tclassifier__n_neighbors: 4\n",
      "\tfeature_selection__k: 100\n",
      "\tfeature_selection__score_func: <function mutual_info_classif at 0x7f196dfb8ed8>\n",
      "0 1 (867, 803) (867,) 1 SVC(C=1, cache_size=200, class_weight=None, coef0=0.0,\n",
      "  decision_function_shape=None, degree=3, gamma='auto', kernel='rbf',\n",
      "  max_iter=-1, probability=False, random_state=None, shrinking=True,\n",
      "  tol=0.001, verbose=False)\n",
      "Fitting 5 folds for each of 18 candidates, totalling 90 fits\n"
     ]
    },
    {
     "name": "stderr",
     "output_type": "stream",
     "text": [
      "[Parallel(n_jobs=2)]: Done  46 tasks      | elapsed:  1.9min\n",
      "[Parallel(n_jobs=2)]: Done  90 out of  90 | elapsed:  3.9min finished\n"
     ]
    },
    {
     "name": "stdout",
     "output_type": "stream",
     "text": [
      "------ Grid search cv results for RBFSVM1 ------\n",
      "Best score: 0.9319\n",
      "Best parameters set:\n",
      "\tclassifier__C: 1000\n",
      "\tclassifier__kernel: 'rbf'\n",
      "\tfeature_selection__k: 100\n",
      "\tfeature_selection__score_func: <function mutual_info_classif at 0x7f196dfb8ed8>\n",
      "0 1 (867, 803) (867,) 2 MLPClassifier(activation='relu', alpha=0.0001, batch_size='auto', beta_1=0.9,\n",
      "       beta_2=0.999, early_stopping=False, epsilon=1e-08,\n",
      "       hidden_layer_sizes=(10, 10), learning_rate='constant',\n",
      "       learning_rate_init=0.001, max_iter=200, momentum=0.9,\n",
      "       nesterovs_momentum=True, power_t=0.5, random_state=1, shuffle=True,\n",
      "       solver='lbfgs', tol=0.0001, validation_fraction=0.1, verbose=True,\n",
      "       warm_start=False)\n",
      "Fitting 5 folds for each of 18 candidates, totalling 90 fits\n"
     ]
    },
    {
     "name": "stderr",
     "output_type": "stream",
     "text": [
      "[Parallel(n_jobs=2)]: Done  46 tasks      | elapsed:  2.6min\n",
      "[Parallel(n_jobs=2)]: Done  90 out of  90 | elapsed:  5.5min finished\n"
     ]
    },
    {
     "name": "stdout",
     "output_type": "stream",
     "text": [
      "------ Grid search cv results for MLP1 ------\n",
      "Best score: 0.9389\n",
      "Best parameters set:\n",
      "\tclassifier__alpha: 0.01\n",
      "\tclassifier__hidden_layer_sizes: (10, 10)\n",
      "\tclassifier__solver: 'lbfgs'\n",
      "\tfeature_selection__k: 500\n",
      "\tfeature_selection__score_func: <function mutual_info_classif at 0x7f196dfb8ed8>\n",
      "0 2 (867, 1606) (867,) 0 KNeighborsClassifier(algorithm='auto', leaf_size=30, metric='minkowski',\n",
      "           metric_params=None, n_jobs=1, n_neighbors=5, p=2,\n",
      "           weights='uniform')\n",
      "Fitting 5 folds for each of 21 candidates, totalling 105 fits\n"
     ]
    },
    {
     "name": "stderr",
     "output_type": "stream",
     "text": [
      "[Parallel(n_jobs=2)]: Done  46 tasks      | elapsed:  3.8min\n",
      "[Parallel(n_jobs=2)]: Done 105 out of 105 | elapsed:  8.4min finished\n"
     ]
    },
    {
     "name": "stdout",
     "output_type": "stream",
     "text": [
      "------ Grid search cv results for NearNb ------\n",
      "Best score: 0.8674\n",
      "Best parameters set:\n",
      "\tclassifier__n_neighbors: 4\n",
      "\tfeature_selection__k: 100\n",
      "\tfeature_selection__score_func: <function mutual_info_classif at 0x7f196dfb8ed8>\n",
      "0 2 (867, 1606) (867,) 1 SVC(C=1, cache_size=200, class_weight=None, coef0=0.0,\n",
      "  decision_function_shape=None, degree=3, gamma='auto', kernel='rbf',\n",
      "  max_iter=-1, probability=False, random_state=None, shrinking=True,\n",
      "  tol=0.001, verbose=False)\n",
      "Fitting 5 folds for each of 18 candidates, totalling 90 fits\n"
     ]
    },
    {
     "name": "stderr",
     "output_type": "stream",
     "text": [
      "[Parallel(n_jobs=2)]: Done  46 tasks      | elapsed:  3.6min\n",
      "[Parallel(n_jobs=2)]: Done  90 out of  90 | elapsed:  6.9min finished\n"
     ]
    },
    {
     "name": "stdout",
     "output_type": "stream",
     "text": [
      "------ Grid search cv results for RBFSVM1 ------\n",
      "Best score: 0.9319\n",
      "Best parameters set:\n",
      "\tclassifier__C: 1000\n",
      "\tclassifier__kernel: 'rbf'\n",
      "\tfeature_selection__k: 100\n",
      "\tfeature_selection__score_func: <function mutual_info_classif at 0x7f196dfb8ed8>\n",
      "0 2 (867, 1606) (867,) 2 MLPClassifier(activation='relu', alpha=0.0001, batch_size='auto', beta_1=0.9,\n",
      "       beta_2=0.999, early_stopping=False, epsilon=1e-08,\n",
      "       hidden_layer_sizes=(10, 10), learning_rate='constant',\n",
      "       learning_rate_init=0.001, max_iter=200, momentum=0.9,\n",
      "       nesterovs_momentum=True, power_t=0.5, random_state=1, shuffle=True,\n",
      "       solver='lbfgs', tol=0.0001, validation_fraction=0.1, verbose=True,\n",
      "       warm_start=False)\n",
      "Fitting 5 folds for each of 18 candidates, totalling 90 fits\n"
     ]
    },
    {
     "name": "stderr",
     "output_type": "stream",
     "text": [
      "[Parallel(n_jobs=2)]: Done  46 tasks      | elapsed:  4.4min\n",
      "[Parallel(n_jobs=2)]: Done  90 out of  90 | elapsed:  9.1min finished\n"
     ]
    },
    {
     "name": "stdout",
     "output_type": "stream",
     "text": [
      "------ Grid search cv results for MLP1 ------\n",
      "Best score: 0.9469\n",
      "Best parameters set:\n",
      "\tclassifier__alpha: 0.01\n",
      "\tclassifier__hidden_layer_sizes: (50, 50)\n",
      "\tclassifier__solver: 'lbfgs'\n",
      "\tfeature_selection__k: 500\n",
      "\tfeature_selection__score_func: <function mutual_info_classif at 0x7f196dfb8ed8>\n",
      "1 0 (748, 803) (748,) 0 KNeighborsClassifier(algorithm='auto', leaf_size=30, metric='minkowski',\n",
      "           metric_params=None, n_jobs=1, n_neighbors=5, p=2,\n",
      "           weights='uniform')\n",
      "Fitting 5 folds for each of 21 candidates, totalling 105 fits\n"
     ]
    },
    {
     "name": "stderr",
     "output_type": "stream",
     "text": [
      "[Parallel(n_jobs=2)]: Done  46 tasks      | elapsed:  2.2min\n",
      "[Parallel(n_jobs=2)]: Done 105 out of 105 | elapsed:  4.3min finished\n"
     ]
    },
    {
     "name": "stdout",
     "output_type": "stream",
     "text": [
      "------ Grid search cv results for NearNb ------\n",
      "Best score: 0.7767\n",
      "Best parameters set:\n",
      "\tclassifier__n_neighbors: 3\n",
      "\tfeature_selection__k: 100\n",
      "\tfeature_selection__score_func: <function mutual_info_classif at 0x7f196dfb8ed8>\n",
      "1 0 (748, 803) (748,) 1 SVC(C=1, cache_size=200, class_weight=None, coef0=0.0,\n",
      "  decision_function_shape=None, degree=3, gamma='auto', kernel='rbf',\n",
      "  max_iter=-1, probability=False, random_state=None, shrinking=True,\n",
      "  tol=0.001, verbose=False)\n",
      "Fitting 5 folds for each of 18 candidates, totalling 90 fits\n"
     ]
    },
    {
     "name": "stderr",
     "output_type": "stream",
     "text": [
      "[Parallel(n_jobs=2)]: Done  46 tasks      | elapsed:  1.7min\n",
      "[Parallel(n_jobs=2)]: Done  90 out of  90 | elapsed:  3.2min finished\n"
     ]
    },
    {
     "name": "stdout",
     "output_type": "stream",
     "text": [
      "------ Grid search cv results for RBFSVM1 ------\n",
      "Best score: 0.8957\n",
      "Best parameters set:\n",
      "\tclassifier__C: 10\n",
      "\tclassifier__kernel: 'rbf'\n",
      "\tfeature_selection__k: 100\n",
      "\tfeature_selection__score_func: <function mutual_info_classif at 0x7f196dfb8ed8>\n",
      "1 0 (748, 803) (748,) 2 MLPClassifier(activation='relu', alpha=0.0001, batch_size='auto', beta_1=0.9,\n",
      "       beta_2=0.999, early_stopping=False, epsilon=1e-08,\n",
      "       hidden_layer_sizes=(10, 10), learning_rate='constant',\n",
      "       learning_rate_init=0.001, max_iter=200, momentum=0.9,\n",
      "       nesterovs_momentum=True, power_t=0.5, random_state=1, shuffle=True,\n",
      "       solver='lbfgs', tol=0.0001, validation_fraction=0.1, verbose=True,\n",
      "       warm_start=False)\n",
      "Fitting 5 folds for each of 18 candidates, totalling 90 fits\n"
     ]
    },
    {
     "name": "stderr",
     "output_type": "stream",
     "text": [
      "[Parallel(n_jobs=2)]: Done  46 tasks      | elapsed:  1.9min\n",
      "[Parallel(n_jobs=2)]: Done  90 out of  90 | elapsed:  3.8min finished\n"
     ]
    },
    {
     "name": "stdout",
     "output_type": "stream",
     "text": [
      "------ Grid search cv results for MLP1 ------\n",
      "Best score: 0.8837\n",
      "Best parameters set:\n",
      "\tclassifier__alpha: 0.01\n",
      "\tclassifier__hidden_layer_sizes: (100, 100)\n",
      "\tclassifier__solver: 'lbfgs'\n",
      "\tfeature_selection__k: 750\n",
      "\tfeature_selection__score_func: <function mutual_info_classif at 0x7f196dfb8ed8>\n",
      "1 1 (748, 803) (748,) 0 KNeighborsClassifier(algorithm='auto', leaf_size=30, metric='minkowski',\n",
      "           metric_params=None, n_jobs=1, n_neighbors=5, p=2,\n",
      "           weights='uniform')\n",
      "Fitting 5 folds for each of 21 candidates, totalling 105 fits\n"
     ]
    },
    {
     "name": "stderr",
     "output_type": "stream",
     "text": [
      "[Parallel(n_jobs=2)]: Done  46 tasks      | elapsed:  1.6min\n",
      "[Parallel(n_jobs=2)]: Done 105 out of 105 | elapsed:  3.7min finished\n"
     ]
    },
    {
     "name": "stdout",
     "output_type": "stream",
     "text": [
      "------ Grid search cv results for NearNb ------\n",
      "Best score: 0.9880\n",
      "Best parameters set:\n",
      "\tclassifier__n_neighbors: 4\n",
      "\tfeature_selection__k: 750\n",
      "\tfeature_selection__score_func: <function mutual_info_classif at 0x7f196dfb8ed8>\n",
      "1 1 (748, 803) (748,) 1 SVC(C=1, cache_size=200, class_weight=None, coef0=0.0,\n",
      "  decision_function_shape=None, degree=3, gamma='auto', kernel='rbf',\n",
      "  max_iter=-1, probability=False, random_state=None, shrinking=True,\n",
      "  tol=0.001, verbose=False)\n",
      "Fitting 5 folds for each of 18 candidates, totalling 90 fits\n"
     ]
    },
    {
     "name": "stderr",
     "output_type": "stream",
     "text": [
      "[Parallel(n_jobs=2)]: Done  46 tasks      | elapsed:  1.7min\n",
      "[Parallel(n_jobs=2)]: Done  90 out of  90 | elapsed:  3.1min finished\n"
     ]
    },
    {
     "name": "stdout",
     "output_type": "stream",
     "text": [
      "------ Grid search cv results for RBFSVM1 ------\n",
      "Best score: 0.9960\n",
      "Best parameters set:\n",
      "\tclassifier__C: 1000\n",
      "\tclassifier__kernel: 'rbf'\n",
      "\tfeature_selection__k: 500\n",
      "\tfeature_selection__score_func: <function mutual_info_classif at 0x7f196dfb8ed8>\n",
      "1 1 (748, 803) (748,) 2 MLPClassifier(activation='relu', alpha=0.0001, batch_size='auto', beta_1=0.9,\n",
      "       beta_2=0.999, early_stopping=False, epsilon=1e-08,\n",
      "       hidden_layer_sizes=(10, 10), learning_rate='constant',\n",
      "       learning_rate_init=0.001, max_iter=200, momentum=0.9,\n",
      "       nesterovs_momentum=True, power_t=0.5, random_state=1, shuffle=True,\n",
      "       solver='lbfgs', tol=0.0001, validation_fraction=0.1, verbose=True,\n",
      "       warm_start=False)\n",
      "Fitting 5 folds for each of 18 candidates, totalling 90 fits\n"
     ]
    },
    {
     "name": "stderr",
     "output_type": "stream",
     "text": [
      "[Parallel(n_jobs=2)]: Done  46 tasks      | elapsed:  1.8min\n",
      "[Parallel(n_jobs=2)]: Done  90 out of  90 | elapsed:  3.5min finished\n"
     ]
    },
    {
     "name": "stdout",
     "output_type": "stream",
     "text": [
      "------ Grid search cv results for MLP1 ------\n",
      "Best score: 0.9906\n",
      "Best parameters set:\n",
      "\tclassifier__alpha: 0.01\n",
      "\tclassifier__hidden_layer_sizes: (10, 10)\n",
      "\tclassifier__solver: 'lbfgs'\n",
      "\tfeature_selection__k: 500\n",
      "\tfeature_selection__score_func: <function mutual_info_classif at 0x7f196dfb8ed8>\n",
      "1 2 (748, 1606) (748,) 0 KNeighborsClassifier(algorithm='auto', leaf_size=30, metric='minkowski',\n",
      "           metric_params=None, n_jobs=1, n_neighbors=5, p=2,\n",
      "           weights='uniform')\n",
      "Fitting 5 folds for each of 21 candidates, totalling 105 fits\n"
     ]
    },
    {
     "name": "stderr",
     "output_type": "stream",
     "text": [
      "[Parallel(n_jobs=2)]: Done  46 tasks      | elapsed:  3.1min\n",
      "[Parallel(n_jobs=2)]: Done 105 out of 105 | elapsed:  7.3min finished\n"
     ]
    },
    {
     "name": "stdout",
     "output_type": "stream",
     "text": [
      "------ Grid search cv results for NearNb ------\n",
      "Best score: 0.9813\n",
      "Best parameters set:\n",
      "\tclassifier__n_neighbors: 9\n",
      "\tfeature_selection__k: 750\n",
      "\tfeature_selection__score_func: <function mutual_info_classif at 0x7f196dfb8ed8>\n",
      "1 2 (748, 1606) (748,) 1 SVC(C=1, cache_size=200, class_weight=None, coef0=0.0,\n",
      "  decision_function_shape=None, degree=3, gamma='auto', kernel='rbf',\n",
      "  max_iter=-1, probability=False, random_state=None, shrinking=True,\n",
      "  tol=0.001, verbose=False)\n",
      "Fitting 5 folds for each of 18 candidates, totalling 90 fits\n"
     ]
    },
    {
     "name": "stderr",
     "output_type": "stream",
     "text": [
      "[Parallel(n_jobs=2)]: Done  46 tasks      | elapsed:  3.1min\n",
      "[Parallel(n_jobs=2)]: Done  90 out of  90 | elapsed:  6.1min finished\n"
     ]
    },
    {
     "name": "stdout",
     "output_type": "stream",
     "text": [
      "------ Grid search cv results for RBFSVM1 ------\n",
      "Best score: 0.9880\n",
      "Best parameters set:\n",
      "\tclassifier__C: 1000\n",
      "\tclassifier__kernel: 'rbf'\n",
      "\tfeature_selection__k: 500\n",
      "\tfeature_selection__score_func: <function mutual_info_classif at 0x7f196dfb8ed8>\n",
      "1 2 (748, 1606) (748,) 2 MLPClassifier(activation='relu', alpha=0.0001, batch_size='auto', beta_1=0.9,\n",
      "       beta_2=0.999, early_stopping=False, epsilon=1e-08,\n",
      "       hidden_layer_sizes=(10, 10), learning_rate='constant',\n",
      "       learning_rate_init=0.001, max_iter=200, momentum=0.9,\n",
      "       nesterovs_momentum=True, power_t=0.5, random_state=1, shuffle=True,\n",
      "       solver='lbfgs', tol=0.0001, validation_fraction=0.1, verbose=True,\n",
      "       warm_start=False)\n",
      "Fitting 5 folds for each of 18 candidates, totalling 90 fits\n"
     ]
    },
    {
     "name": "stderr",
     "output_type": "stream",
     "text": [
      "[Parallel(n_jobs=2)]: Done  46 tasks      | elapsed:  3.6min\n",
      "[Parallel(n_jobs=2)]: Done  90 out of  90 | elapsed:  7.0min finished\n"
     ]
    },
    {
     "name": "stdout",
     "output_type": "stream",
     "text": [
      "------ Grid search cv results for MLP1 ------\n",
      "Best score: 0.9866\n",
      "Best parameters set:\n",
      "\tclassifier__alpha: 0.01\n",
      "\tclassifier__hidden_layer_sizes: (10, 10)\n",
      "\tclassifier__solver: 'lbfgs'\n",
      "\tfeature_selection__k: 500\n",
      "\tfeature_selection__score_func: <function mutual_info_classif at 0x7f196dfb8ed8>\n",
      "2 0 (828, 803) (828,) 0 KNeighborsClassifier(algorithm='auto', leaf_size=30, metric='minkowski',\n",
      "           metric_params=None, n_jobs=1, n_neighbors=5, p=2,\n",
      "           weights='uniform')\n",
      "Fitting 5 folds for each of 21 candidates, totalling 105 fits\n"
     ]
    },
    {
     "name": "stderr",
     "output_type": "stream",
     "text": [
      "[Parallel(n_jobs=2)]: Done  46 tasks      | elapsed:  1.9min\n",
      "[Parallel(n_jobs=2)]: Done 105 out of 105 | elapsed:  4.6min finished\n"
     ]
    },
    {
     "name": "stdout",
     "output_type": "stream",
     "text": [
      "------ Grid search cv results for NearNb ------\n",
      "Best score: 0.6558\n",
      "Best parameters set:\n",
      "\tclassifier__n_neighbors: 5\n",
      "\tfeature_selection__k: 750\n",
      "\tfeature_selection__score_func: <function mutual_info_classif at 0x7f196dfb8ed8>\n",
      "2 0 (828, 803) (828,) 1 SVC(C=1, cache_size=200, class_weight=None, coef0=0.0,\n",
      "  decision_function_shape=None, degree=3, gamma='auto', kernel='rbf',\n",
      "  max_iter=-1, probability=False, random_state=None, shrinking=True,\n",
      "  tol=0.001, verbose=False)\n",
      "Fitting 5 folds for each of 18 candidates, totalling 90 fits\n"
     ]
    },
    {
     "name": "stderr",
     "output_type": "stream",
     "text": [
      "[Parallel(n_jobs=2)]: Done  46 tasks      | elapsed:  2.1min\n",
      "[Parallel(n_jobs=2)]: Done  90 out of  90 | elapsed:  3.8min finished\n"
     ]
    },
    {
     "name": "stdout",
     "output_type": "stream",
     "text": [
      "------ Grid search cv results for RBFSVM1 ------\n",
      "Best score: 0.6159\n",
      "Best parameters set:\n",
      "\tclassifier__C: 10\n",
      "\tclassifier__kernel: 'rbf'\n",
      "\tfeature_selection__k: 750\n",
      "\tfeature_selection__score_func: <function mutual_info_classif at 0x7f196dfb8ed8>\n",
      "2 0 (828, 803) (828,) 2 MLPClassifier(activation='relu', alpha=0.0001, batch_size='auto', beta_1=0.9,\n",
      "       beta_2=0.999, early_stopping=False, epsilon=1e-08,\n",
      "       hidden_layer_sizes=(10, 10), learning_rate='constant',\n",
      "       learning_rate_init=0.001, max_iter=200, momentum=0.9,\n",
      "       nesterovs_momentum=True, power_t=0.5, random_state=1, shuffle=True,\n",
      "       solver='lbfgs', tol=0.0001, validation_fraction=0.1, verbose=True,\n",
      "       warm_start=False)\n",
      "Fitting 5 folds for each of 18 candidates, totalling 90 fits\n"
     ]
    },
    {
     "name": "stderr",
     "output_type": "stream",
     "text": [
      "[Parallel(n_jobs=2)]: Done  46 tasks      | elapsed:  2.5min\n",
      "[Parallel(n_jobs=2)]: Done  90 out of  90 | elapsed:  5.2min finished\n"
     ]
    },
    {
     "name": "stdout",
     "output_type": "stream",
     "text": [
      "------ Grid search cv results for MLP1 ------\n",
      "Best score: 0.6763\n",
      "Best parameters set:\n",
      "\tclassifier__alpha: 0.01\n",
      "\tclassifier__hidden_layer_sizes: (10, 10)\n",
      "\tclassifier__solver: 'lbfgs'\n",
      "\tfeature_selection__k: 100\n",
      "\tfeature_selection__score_func: <function mutual_info_classif at 0x7f196dfb8ed8>\n",
      "2 1 (828, 803) (828,) 0 KNeighborsClassifier(algorithm='auto', leaf_size=30, metric='minkowski',\n",
      "           metric_params=None, n_jobs=1, n_neighbors=5, p=2,\n",
      "           weights='uniform')\n",
      "Fitting 5 folds for each of 21 candidates, totalling 105 fits\n"
     ]
    },
    {
     "name": "stderr",
     "output_type": "stream",
     "text": [
      "[Parallel(n_jobs=2)]: Done  46 tasks      | elapsed:  1.8min\n",
      "[Parallel(n_jobs=2)]: Done 105 out of 105 | elapsed:  4.1min finished\n"
     ]
    },
    {
     "name": "stdout",
     "output_type": "stream",
     "text": [
      "------ Grid search cv results for NearNb ------\n",
      "Best score: 0.8998\n",
      "Best parameters set:\n",
      "\tclassifier__n_neighbors: 4\n",
      "\tfeature_selection__k: 100\n",
      "\tfeature_selection__score_func: <function mutual_info_classif at 0x7f196dfb8ed8>\n",
      "2 1 (828, 803) (828,) 1 SVC(C=1, cache_size=200, class_weight=None, coef0=0.0,\n",
      "  decision_function_shape=None, degree=3, gamma='auto', kernel='rbf',\n",
      "  max_iter=-1, probability=False, random_state=None, shrinking=True,\n",
      "  tol=0.001, verbose=False)\n",
      "Fitting 5 folds for each of 18 candidates, totalling 90 fits\n"
     ]
    },
    {
     "name": "stderr",
     "output_type": "stream",
     "text": [
      "[Parallel(n_jobs=2)]: Done  46 tasks      | elapsed:  1.8min\n",
      "[Parallel(n_jobs=2)]: Done  90 out of  90 | elapsed:  3.5min finished\n"
     ]
    },
    {
     "name": "stdout",
     "output_type": "stream",
     "text": [
      "------ Grid search cv results for RBFSVM1 ------\n",
      "Best score: 0.9312\n",
      "Best parameters set:\n",
      "\tclassifier__C: 1000\n",
      "\tclassifier__kernel: 'rbf'\n",
      "\tfeature_selection__k: 750\n",
      "\tfeature_selection__score_func: <function mutual_info_classif at 0x7f196dfb8ed8>\n",
      "2 1 (828, 803) (828,) 2 MLPClassifier(activation='relu', alpha=0.0001, batch_size='auto', beta_1=0.9,\n",
      "       beta_2=0.999, early_stopping=False, epsilon=1e-08,\n",
      "       hidden_layer_sizes=(10, 10), learning_rate='constant',\n",
      "       learning_rate_init=0.001, max_iter=200, momentum=0.9,\n",
      "       nesterovs_momentum=True, power_t=0.5, random_state=1, shuffle=True,\n",
      "       solver='lbfgs', tol=0.0001, validation_fraction=0.1, verbose=True,\n",
      "       warm_start=False)\n",
      "Fitting 5 folds for each of 18 candidates, totalling 90 fits\n"
     ]
    },
    {
     "name": "stderr",
     "output_type": "stream",
     "text": [
      "[Parallel(n_jobs=2)]: Done  46 tasks      | elapsed:  2.1min\n",
      "[Parallel(n_jobs=2)]: Done  90 out of  90 | elapsed:  5.0min finished\n"
     ]
    },
    {
     "name": "stdout",
     "output_type": "stream",
     "text": [
      "------ Grid search cv results for MLP1 ------\n",
      "Best score: 0.9493\n",
      "Best parameters set:\n",
      "\tclassifier__alpha: 0.01\n",
      "\tclassifier__hidden_layer_sizes: (100, 100)\n",
      "\tclassifier__solver: 'lbfgs'\n",
      "\tfeature_selection__k: 750\n",
      "\tfeature_selection__score_func: <function mutual_info_classif at 0x7f196dfb8ed8>\n",
      "2 2 (828, 1606) (828,) 0 KNeighborsClassifier(algorithm='auto', leaf_size=30, metric='minkowski',\n",
      "           metric_params=None, n_jobs=1, n_neighbors=5, p=2,\n",
      "           weights='uniform')\n",
      "Fitting 5 folds for each of 21 candidates, totalling 105 fits\n"
     ]
    },
    {
     "name": "stderr",
     "output_type": "stream",
     "text": [
      "[Parallel(n_jobs=2)]: Done  46 tasks      | elapsed:  4.0min\n",
      "[Parallel(n_jobs=2)]: Done 105 out of 105 | elapsed:  8.6min finished\n"
     ]
    },
    {
     "name": "stdout",
     "output_type": "stream",
     "text": [
      "------ Grid search cv results for NearNb ------\n",
      "Best score: 0.8998\n",
      "Best parameters set:\n",
      "\tclassifier__n_neighbors: 4\n",
      "\tfeature_selection__k: 100\n",
      "\tfeature_selection__score_func: <function mutual_info_classif at 0x7f196dfb8ed8>\n",
      "2 2 (828, 1606) (828,) 1 SVC(C=1, cache_size=200, class_weight=None, coef0=0.0,\n",
      "  decision_function_shape=None, degree=3, gamma='auto', kernel='rbf',\n",
      "  max_iter=-1, probability=False, random_state=None, shrinking=True,\n",
      "  tol=0.001, verbose=False)\n",
      "Fitting 5 folds for each of 18 candidates, totalling 90 fits\n"
     ]
    },
    {
     "name": "stderr",
     "output_type": "stream",
     "text": [
      "[Parallel(n_jobs=2)]: Done  46 tasks      | elapsed:  3.5min\n",
      "[Parallel(n_jobs=2)]: Done  90 out of  90 | elapsed:  6.8min finished\n"
     ]
    },
    {
     "name": "stdout",
     "output_type": "stream",
     "text": [
      "------ Grid search cv results for RBFSVM1 ------\n",
      "Best score: 0.9179\n",
      "Best parameters set:\n",
      "\tclassifier__C: 1000\n",
      "\tclassifier__kernel: 'rbf'\n",
      "\tfeature_selection__k: 100\n",
      "\tfeature_selection__score_func: <function mutual_info_classif at 0x7f196dfb8ed8>\n",
      "2 2 (828, 1606) (828,) 2 MLPClassifier(activation='relu', alpha=0.0001, batch_size='auto', beta_1=0.9,\n",
      "       beta_2=0.999, early_stopping=False, epsilon=1e-08,\n",
      "       hidden_layer_sizes=(10, 10), learning_rate='constant',\n",
      "       learning_rate_init=0.001, max_iter=200, momentum=0.9,\n",
      "       nesterovs_momentum=True, power_t=0.5, random_state=1, shuffle=True,\n",
      "       solver='lbfgs', tol=0.0001, validation_fraction=0.1, verbose=True,\n",
      "       warm_start=False)\n",
      "Fitting 5 folds for each of 18 candidates, totalling 90 fits\n"
     ]
    },
    {
     "name": "stderr",
     "output_type": "stream",
     "text": [
      "[Parallel(n_jobs=2)]: Done  46 tasks      | elapsed:  4.0min\n",
      "[Parallel(n_jobs=2)]: Done  90 out of  90 | elapsed:  8.4min finished\n"
     ]
    },
    {
     "name": "stdout",
     "output_type": "stream",
     "text": [
      "------ Grid search cv results for MLP1 ------\n",
      "Best score: 0.9408\n",
      "Best parameters set:\n",
      "\tclassifier__alpha: 1e-05\n",
      "\tclassifier__hidden_layer_sizes: (50, 50)\n",
      "\tclassifier__solver: 'lbfgs'\n",
      "\tfeature_selection__k: 100\n",
      "\tfeature_selection__score_func: <function mutual_info_classif at 0x7f196dfb8ed8>\n"
     ]
    }
   ],
   "source": [
    "# %%time\n",
    "state = 42\n",
    "skipdata = 20\n",
    "best_parameters = np.zeros((X.shape[0],len(tmpind),len(classifiers))).tolist()\n",
    "best_clf = np.zeros((X.shape[0],len(tmpind),len(classifiers))).tolist()\n",
    "best_fs_sc = np.zeros((X.shape[0],len(tmpind),len(classifiers))).tolist()\n",
    "for i in range(X.shape[0]):\n",
    "    y_tot = np.copy(Ysp[i]) ; y_tot = y_tot[::skipdata]\n",
    "    for j in range(len(tmpind)):\n",
    "        x_tot = np.copy(Xsp[i][j]) ; x_tot = x_tot[::skipdata,:]\n",
    "        \n",
    "        # Grid search for param tuning for all classifiers\n",
    "#         cv = StratifiedKFold(n_splits = 5, shuffle = True, random_state = state)\n",
    "        cv = KFold(n_splits = 5, shuffle = False, random_state = state)\n",
    "        for clfid, clfval in enumerate(classifiers[:-1]):\n",
    "            print i, j, x_tot.shape, y_tot.shape, clfid, clfval\n",
    "            grid_pip = make_pipe_clf(StandardScaler(),SelectKBest(),clfval)\n",
    "            p1 = makepipe_parameters_clf[clfid]\n",
    "#             p2 = makepipe_parameters_clf[-2]\n",
    "            p3 = makepipe_parameters_clf[-1]\n",
    "            params = reduce(lambda x,y: dict(x, **y), (p1, p3))\n",
    "#             print p1,p2,p3,params\n",
    "            grid_search = GridSearchCV(grid_pip, params, verbose = 1, cv = cv, n_jobs=2)\n",
    "#             if clfid != len(classifiers):\n",
    "            grid_search.fit(x_tot, y_tot)\n",
    "#             print best_parameters[i][j][clfid]\n",
    "            best_parameters[i][j][clfid] = grid_search.best_estimator_.get_params()\n",
    "            print(\"------ Grid search cv results for \"+names[clfid]+\" ------\")\n",
    "            print(\"Best score: %0.4f\" %grid_search.best_score_)\n",
    "            print(\"Best parameters set:\")\n",
    "#             best_parameters += [grid_search.best_estimator_.get_params()]\n",
    "            for param_name in sorted(params.keys()):\n",
    "                 print(\"\\t%s: %r\" % (param_name, best_parameters[i][j][clfid][param_name]))\n",
    "            best_clf[i][j][clfid] = grid_pip.set_params(**best_parameters[i][j][clfid])\n",
    "#             raw_input()\n",
    "#             best_fit = best_clf[i][j][clfid].fit(x_tot,y_tot)\n",
    "            best_fs = best_clf[i][j][clfid].named_steps['feature_selection']\n",
    "            pipe_fs_unsorted = best_fs.scores_\n",
    "            best_fs_sc[i][j][clfid] = pipe_fs_unsorted\n",
    "#             fs_inds = pipe_fs_unsorted.argsort()\n",
    "#             pipe_fs = pipe_fs_unsorted[fs_inds]\n",
    "#########\n",
    "#             #print the top features selected\n",
    "#             best_fs = gridpip.set_params(**self.classifiers[self.actual_ind]).named_steps['feature_selection']\n",
    "# #           self.best_fs = self.pipe.set_params(**self.classifiers[self.actual_ind]).named_steps['feature_selection']\n",
    "# #           best_fs = pipeline[actual_ind].named_steps['feature_selection']\n",
    "# #             self.best_fs_indd = self.best_fs.get_support(indices = True)\n",
    "# #                 print(self.best_fs_indd)\n",
    "#             pipe_fs_unsorted = best_fs.scores_\n",
    "# #             self.fs_inds = self.pipe_fs_unsorted.argsort()\n",
    "# #                 print(self.fs_inds)\n",
    "#             self.pipe_fs = self.pipe_fs_unsorted[self.fs_inds]\n",
    "#             self.temp3 = 0 # temp3 = 0:number of features\n",
    "\n",
    "#             for self.temp_ind2 in range(-1, -(self.nfeat +1), -1):         \n",
    "#                 self.best_feat_ind[self.temp2][self.temp3]=self.fs_inds[self.temp_ind2]\n",
    "#                 self.total_feats[self.fs_inds[self.temp_ind2]]+=1 # feature scores \n",
    "#                 self.temp3+=1\n",
    "# #                 print(self.total_feats)\n",
    "#             #fit the best classifier on the outer test data\n",
    "#             self.best_pip = self.pipe.set_params(**self.classifiers[self.actual_ind])\n",
    "\n",
    "#             self.best_pip.fit(self.x_trn_out, self.y_trn_out)\n",
    "\n",
    "#             #get the outer score \n",
    "#             self.outer_scores[self.temp2, self.fold_out] = self.best_pip.score(self.x_tst_out, self.y_tst_out)\n",
    "#             print(\"Inner score: %f VS Outer score: %f \\n\" %(self.inner_mean_scores[self.actual_ind], self.outer_scores[self.temp2, self.fold_out]))\n",
    "#             print (\"----------------------------------------------------------\")\n",
    "#             self.temp2+=1\n",
    "###########\n",
    "            \n",
    "            \n",
    "#             else:\n",
    "                # ensemble MLP\n",
    "#                 x_tot_Ens = best_clf[i][j][clfid]\n",
    "#                 grid_search.fit(x_tot_Ens, y_tot)\n"
   ]
  },
  {
   "cell_type": "code",
   "execution_count": 17,
   "metadata": {
    "scrolled": false
   },
   "outputs": [
    {
     "name": "stdout",
     "output_type": "stream",
     "text": [
      "0 0 (867, 803) (867,) 0 KNeighborsClassifier(algorithm='auto', leaf_size=30, metric='minkowski',\n",
      "           metric_params=None, n_jobs=1, n_neighbors=5, p=2,\n",
      "           weights='uniform')\n",
      "Fitting 5 folds for each of 42 candidates, totalling 210 fits\n"
     ]
    },
    {
     "name": "stderr",
     "output_type": "stream",
     "text": [
      "[Parallel(n_jobs=2)]: Done  46 tasks      | elapsed:  1.9min\n",
      "[Parallel(n_jobs=2)]: Done 196 tasks      | elapsed:  8.2min\n",
      "[Parallel(n_jobs=2)]: Done 210 out of 210 | elapsed:  9.0min finished\n"
     ]
    },
    {
     "name": "stdout",
     "output_type": "stream",
     "text": [
      "------ Grid search cv results for NearNb ------\n",
      "Best score: 0.6932\n",
      "Best parameters set:\n",
      "\tclassifier__n_neighbors: 8\n",
      "\tdecomp__n_components: 100\n",
      "\tfeature_selection__k: 750\n",
      "\tfeature_selection__score_func: <function mutual_info_classif at 0x7fbdfa13ede8>\n",
      "0 0 (867, 803) (867,) 1 SVC(C=1, cache_size=200, class_weight=None, coef0=0.0,\n",
      "  decision_function_shape=None, degree=3, gamma='auto', kernel='rbf',\n",
      "  max_iter=-1, probability=False, random_state=None, shrinking=True,\n",
      "  tol=0.001, verbose=False)\n",
      "Fitting 5 folds for each of 36 candidates, totalling 180 fits\n"
     ]
    },
    {
     "name": "stderr",
     "output_type": "stream",
     "text": [
      "[Parallel(n_jobs=2)]: Done  46 tasks      | elapsed:  2.5min\n",
      "[Parallel(n_jobs=2)]: Done 180 out of 180 | elapsed:  7.9min finished\n"
     ]
    },
    {
     "name": "stdout",
     "output_type": "stream",
     "text": [
      "------ Grid search cv results for RBFSVM1 ------\n",
      "Best score: 0.6367\n",
      "Best parameters set:\n",
      "\tclassifier__C: 1\n",
      "\tclassifier__kernel: 'rbf'\n",
      "\tdecomp__n_components: 50\n",
      "\tfeature_selection__k: 500\n",
      "\tfeature_selection__score_func: <function mutual_info_classif at 0x7fbdfa13ede8>\n",
      "0 0 (867, 803) (867,) 2 MLPClassifier(activation='relu', alpha=0.0001, batch_size='auto', beta_1=0.9,\n",
      "       beta_2=0.999, early_stopping=False, epsilon=1e-08,\n",
      "       hidden_layer_sizes=(10, 10), learning_rate='constant',\n",
      "       learning_rate_init=0.001, max_iter=200, momentum=0.9,\n",
      "       nesterovs_momentum=True, power_t=0.5, random_state=1, shuffle=True,\n",
      "       solver='lbfgs', tol=0.0001, validation_fraction=0.1, verbose=True,\n",
      "       warm_start=False)\n",
      "Fitting 5 folds for each of 36 candidates, totalling 180 fits\n"
     ]
    },
    {
     "name": "stderr",
     "output_type": "stream",
     "text": [
      "[Parallel(n_jobs=2)]: Done  46 tasks      | elapsed:  2.1min\n",
      "[Parallel(n_jobs=2)]: Done 180 out of 180 | elapsed: 10.3min finished\n"
     ]
    },
    {
     "name": "stdout",
     "output_type": "stream",
     "text": [
      "------ Grid search cv results for MLP1 ------\n",
      "Best score: 0.6759\n",
      "Best parameters set:\n",
      "\tclassifier__alpha: 1e-05\n",
      "\tclassifier__hidden_layer_sizes: (10, 10)\n",
      "\tclassifier__solver: 'lbfgs'\n",
      "\tdecomp__n_components: 50\n",
      "\tfeature_selection__k: 750\n",
      "\tfeature_selection__score_func: <function mutual_info_classif at 0x7fbdfa13ede8>\n",
      "0 1 (867, 803) (867,) 0 KNeighborsClassifier(algorithm='auto', leaf_size=30, metric='minkowski',\n",
      "           metric_params=None, n_jobs=1, n_neighbors=5, p=2,\n",
      "           weights='uniform')\n",
      "Fitting 5 folds for each of 42 candidates, totalling 210 fits\n"
     ]
    },
    {
     "name": "stderr",
     "output_type": "stream",
     "text": [
      "[Parallel(n_jobs=2)]: Done  46 tasks      | elapsed:  1.8min\n",
      "[Parallel(n_jobs=2)]: Done 196 tasks      | elapsed:  7.8min\n",
      "[Parallel(n_jobs=2)]: Done 210 out of 210 | elapsed:  8.3min finished\n"
     ]
    },
    {
     "name": "stdout",
     "output_type": "stream",
     "text": [
      "------ Grid search cv results for NearNb ------\n",
      "Best score: 0.8674\n",
      "Best parameters set:\n",
      "\tclassifier__n_neighbors: 4\n",
      "\tdecomp__n_components: 100\n",
      "\tfeature_selection__k: 100\n",
      "\tfeature_selection__score_func: <function mutual_info_classif at 0x7fbdfa13ede8>\n",
      "0 1 (867, 803) (867,) 1 SVC(C=1, cache_size=200, class_weight=None, coef0=0.0,\n",
      "  decision_function_shape=None, degree=3, gamma='auto', kernel='rbf',\n",
      "  max_iter=-1, probability=False, random_state=None, shrinking=True,\n",
      "  tol=0.001, verbose=False)\n",
      "Fitting 5 folds for each of 36 candidates, totalling 180 fits\n"
     ]
    },
    {
     "name": "stderr",
     "output_type": "stream",
     "text": [
      "[Parallel(n_jobs=2)]: Done  46 tasks      | elapsed:  1.9min\n",
      "[Parallel(n_jobs=2)]: Done 180 out of 180 | elapsed:  7.3min finished\n"
     ]
    },
    {
     "name": "stdout",
     "output_type": "stream",
     "text": [
      "------ Grid search cv results for RBFSVM1 ------\n",
      "Best score: 0.9319\n",
      "Best parameters set:\n",
      "\tclassifier__C: 1000\n",
      "\tclassifier__kernel: 'rbf'\n",
      "\tdecomp__n_components: 100\n",
      "\tfeature_selection__k: 100\n",
      "\tfeature_selection__score_func: <function mutual_info_classif at 0x7fbdfa13ede8>\n",
      "0 1 (867, 803) (867,) 2 MLPClassifier(activation='relu', alpha=0.0001, batch_size='auto', beta_1=0.9,\n",
      "       beta_2=0.999, early_stopping=False, epsilon=1e-08,\n",
      "       hidden_layer_sizes=(10, 10), learning_rate='constant',\n",
      "       learning_rate_init=0.001, max_iter=200, momentum=0.9,\n",
      "       nesterovs_momentum=True, power_t=0.5, random_state=1, shuffle=True,\n",
      "       solver='lbfgs', tol=0.0001, validation_fraction=0.1, verbose=True,\n",
      "       warm_start=False)\n",
      "Fitting 5 folds for each of 36 candidates, totalling 180 fits\n"
     ]
    },
    {
     "name": "stderr",
     "output_type": "stream",
     "text": [
      "[Parallel(n_jobs=2)]: Done  46 tasks      | elapsed:  2.4min\n",
      "[Parallel(n_jobs=2)]: Done 180 out of 180 | elapsed: 10.1min finished\n"
     ]
    },
    {
     "name": "stdout",
     "output_type": "stream",
     "text": [
      "------ Grid search cv results for MLP1 ------\n",
      "Best score: 0.9389\n",
      "Best parameters set:\n",
      "\tclassifier__alpha: 1e-05\n",
      "\tclassifier__hidden_layer_sizes: (50, 50)\n",
      "\tclassifier__solver: 'lbfgs'\n",
      "\tdecomp__n_components: 50\n",
      "\tfeature_selection__k: 500\n",
      "\tfeature_selection__score_func: <function mutual_info_classif at 0x7fbdfa13ede8>\n",
      "0 2 (867, 1606) (867,) 0 KNeighborsClassifier(algorithm='auto', leaf_size=30, metric='minkowski',\n",
      "           metric_params=None, n_jobs=1, n_neighbors=5, p=2,\n",
      "           weights='uniform')\n",
      "Fitting 5 folds for each of 42 candidates, totalling 210 fits\n"
     ]
    },
    {
     "name": "stderr",
     "output_type": "stream",
     "text": [
      "[Parallel(n_jobs=2)]: Done  46 tasks      | elapsed:  3.5min\n",
      "[Parallel(n_jobs=2)]: Done 196 tasks      | elapsed: 15.1min\n",
      "[Parallel(n_jobs=2)]: Done 210 out of 210 | elapsed: 16.2min finished\n"
     ]
    },
    {
     "name": "stdout",
     "output_type": "stream",
     "text": [
      "------ Grid search cv results for NearNb ------\n",
      "Best score: 0.8674\n",
      "Best parameters set:\n",
      "\tclassifier__n_neighbors: 4\n",
      "\tdecomp__n_components: 100\n",
      "\tfeature_selection__k: 100\n",
      "\tfeature_selection__score_func: <function mutual_info_classif at 0x7fbdfa13ede8>\n",
      "0 2 (867, 1606) (867,) 1 SVC(C=1, cache_size=200, class_weight=None, coef0=0.0,\n",
      "  decision_function_shape=None, degree=3, gamma='auto', kernel='rbf',\n",
      "  max_iter=-1, probability=False, random_state=None, shrinking=True,\n",
      "  tol=0.001, verbose=False)\n",
      "Fitting 5 folds for each of 36 candidates, totalling 180 fits\n"
     ]
    },
    {
     "name": "stderr",
     "output_type": "stream",
     "text": [
      "[Parallel(n_jobs=2)]: Done  46 tasks      | elapsed:  3.8min\n",
      "[Parallel(n_jobs=2)]: Done 180 out of 180 | elapsed: 13.9min finished\n"
     ]
    },
    {
     "name": "stdout",
     "output_type": "stream",
     "text": [
      "------ Grid search cv results for RBFSVM1 ------\n",
      "Best score: 0.9319\n",
      "Best parameters set:\n",
      "\tclassifier__C: 1000\n",
      "\tclassifier__kernel: 'rbf'\n",
      "\tdecomp__n_components: 100\n",
      "\tfeature_selection__k: 100\n",
      "\tfeature_selection__score_func: <function mutual_info_classif at 0x7fbdfa13ede8>\n",
      "0 2 (867, 1606) (867,) 2 MLPClassifier(activation='relu', alpha=0.0001, batch_size='auto', beta_1=0.9,\n",
      "       beta_2=0.999, early_stopping=False, epsilon=1e-08,\n",
      "       hidden_layer_sizes=(10, 10), learning_rate='constant',\n",
      "       learning_rate_init=0.001, max_iter=200, momentum=0.9,\n",
      "       nesterovs_momentum=True, power_t=0.5, random_state=1, shuffle=True,\n",
      "       solver='lbfgs', tol=0.0001, validation_fraction=0.1, verbose=True,\n",
      "       warm_start=False)\n",
      "Fitting 5 folds for each of 36 candidates, totalling 180 fits\n"
     ]
    },
    {
     "name": "stderr",
     "output_type": "stream",
     "text": [
      "[Parallel(n_jobs=2)]: Done  46 tasks      | elapsed:  3.7min\n",
      "[Parallel(n_jobs=2)]: Done 180 out of 180 | elapsed: 16.3min finished\n"
     ]
    },
    {
     "name": "stdout",
     "output_type": "stream",
     "text": [
      "------ Grid search cv results for MLP1 ------\n",
      "Best score: 0.9562\n",
      "Best parameters set:\n",
      "\tclassifier__alpha: 1e-05\n",
      "\tclassifier__hidden_layer_sizes: (100, 100)\n",
      "\tclassifier__solver: 'lbfgs'\n",
      "\tdecomp__n_components: 100\n",
      "\tfeature_selection__k: 500\n",
      "\tfeature_selection__score_func: <function mutual_info_classif at 0x7fbdfa13ede8>\n",
      "1 0 (748, 803) (748,) 0 KNeighborsClassifier(algorithm='auto', leaf_size=30, metric='minkowski',\n",
      "           metric_params=None, n_jobs=1, n_neighbors=5, p=2,\n",
      "           weights='uniform')\n",
      "Fitting 5 folds for each of 42 candidates, totalling 210 fits\n"
     ]
    },
    {
     "name": "stderr",
     "output_type": "stream",
     "text": [
      "[Parallel(n_jobs=2)]: Done  46 tasks      | elapsed:  1.7min\n",
      "[Parallel(n_jobs=2)]: Done 196 tasks      | elapsed:  8.3min\n",
      "[Parallel(n_jobs=2)]: Done 210 out of 210 | elapsed:  8.9min finished\n"
     ]
    },
    {
     "name": "stdout",
     "output_type": "stream",
     "text": [
      "------ Grid search cv results for NearNb ------\n",
      "Best score: 0.7794\n",
      "Best parameters set:\n",
      "\tclassifier__n_neighbors: 7\n",
      "\tdecomp__n_components: 50\n",
      "\tfeature_selection__k: 100\n",
      "\tfeature_selection__score_func: <function mutual_info_classif at 0x7fbdfa13ede8>\n",
      "1 0 (748, 803) (748,) 1 SVC(C=1, cache_size=200, class_weight=None, coef0=0.0,\n",
      "  decision_function_shape=None, degree=3, gamma='auto', kernel='rbf',\n",
      "  max_iter=-1, probability=False, random_state=None, shrinking=True,\n",
      "  tol=0.001, verbose=False)\n",
      "Fitting 5 folds for each of 36 candidates, totalling 180 fits\n"
     ]
    },
    {
     "name": "stderr",
     "output_type": "stream",
     "text": [
      "[Parallel(n_jobs=2)]: Done  46 tasks      | elapsed:  1.7min\n",
      "[Parallel(n_jobs=2)]: Done 180 out of 180 | elapsed:  6.7min finished\n"
     ]
    },
    {
     "name": "stdout",
     "output_type": "stream",
     "text": [
      "------ Grid search cv results for RBFSVM1 ------\n",
      "Best score: 0.8930\n",
      "Best parameters set:\n",
      "\tclassifier__C: 10\n",
      "\tclassifier__kernel: 'rbf'\n",
      "\tdecomp__n_components: 100\n",
      "\tfeature_selection__k: 100\n",
      "\tfeature_selection__score_func: <function mutual_info_classif at 0x7fbdfa13ede8>\n",
      "1 0 (748, 803) (748,) 2 MLPClassifier(activation='relu', alpha=0.0001, batch_size='auto', beta_1=0.9,\n",
      "       beta_2=0.999, early_stopping=False, epsilon=1e-08,\n",
      "       hidden_layer_sizes=(10, 10), learning_rate='constant',\n",
      "       learning_rate_init=0.001, max_iter=200, momentum=0.9,\n",
      "       nesterovs_momentum=True, power_t=0.5, random_state=1, shuffle=True,\n",
      "       solver='lbfgs', tol=0.0001, validation_fraction=0.1, verbose=True,\n",
      "       warm_start=False)\n",
      "Fitting 5 folds for each of 36 candidates, totalling 180 fits\n"
     ]
    },
    {
     "name": "stderr",
     "output_type": "stream",
     "text": [
      "[Parallel(n_jobs=2)]: Done  46 tasks      | elapsed:  2.1min\n",
      "[Parallel(n_jobs=2)]: Done 180 out of 180 | elapsed:  9.1min finished\n"
     ]
    },
    {
     "name": "stdout",
     "output_type": "stream",
     "text": [
      "------ Grid search cv results for MLP1 ------\n",
      "Best score: 0.8877\n",
      "Best parameters set:\n",
      "\tclassifier__alpha: 0.01\n",
      "\tclassifier__hidden_layer_sizes: (100, 100)\n",
      "\tclassifier__solver: 'lbfgs'\n",
      "\tdecomp__n_components: 100\n",
      "\tfeature_selection__k: 100\n",
      "\tfeature_selection__score_func: <function mutual_info_classif at 0x7fbdfa13ede8>\n",
      "1 1 (748, 803) (748,) 0 KNeighborsClassifier(algorithm='auto', leaf_size=30, metric='minkowski',\n",
      "           metric_params=None, n_jobs=1, n_neighbors=5, p=2,\n",
      "           weights='uniform')\n",
      "Fitting 5 folds for each of 42 candidates, totalling 210 fits\n"
     ]
    },
    {
     "name": "stderr",
     "output_type": "stream",
     "text": [
      "[Parallel(n_jobs=2)]: Done  46 tasks      | elapsed:  1.7min\n",
      "[Parallel(n_jobs=2)]: Done 196 tasks      | elapsed:  7.2min\n",
      "[Parallel(n_jobs=2)]: Done 210 out of 210 | elapsed:  7.7min finished\n"
     ]
    },
    {
     "name": "stdout",
     "output_type": "stream",
     "text": [
      "------ Grid search cv results for NearNb ------\n",
      "Best score: 0.9893\n",
      "Best parameters set:\n",
      "\tclassifier__n_neighbors: 5\n",
      "\tdecomp__n_components: 50\n",
      "\tfeature_selection__k: 750\n",
      "\tfeature_selection__score_func: <function mutual_info_classif at 0x7fbdfa13ede8>\n",
      "1 1 (748, 803) (748,) 1 SVC(C=1, cache_size=200, class_weight=None, coef0=0.0,\n",
      "  decision_function_shape=None, degree=3, gamma='auto', kernel='rbf',\n",
      "  max_iter=-1, probability=False, random_state=None, shrinking=True,\n",
      "  tol=0.001, verbose=False)\n",
      "Fitting 5 folds for each of 36 candidates, totalling 180 fits\n"
     ]
    },
    {
     "name": "stderr",
     "output_type": "stream",
     "text": [
      "[Parallel(n_jobs=2)]: Done  46 tasks      | elapsed:  1.7min\n",
      "[Parallel(n_jobs=2)]: Done 180 out of 180 | elapsed:  7.0min finished\n"
     ]
    },
    {
     "name": "stdout",
     "output_type": "stream",
     "text": [
      "------ Grid search cv results for RBFSVM1 ------\n",
      "Best score: 0.9947\n",
      "Best parameters set:\n",
      "\tclassifier__C: 100\n",
      "\tclassifier__kernel: 'rbf'\n",
      "\tdecomp__n_components: 100\n",
      "\tfeature_selection__k: 500\n",
      "\tfeature_selection__score_func: <function mutual_info_classif at 0x7fbdfa13ede8>\n",
      "1 1 (748, 803) (748,) 2 MLPClassifier(activation='relu', alpha=0.0001, batch_size='auto', beta_1=0.9,\n",
      "       beta_2=0.999, early_stopping=False, epsilon=1e-08,\n",
      "       hidden_layer_sizes=(10, 10), learning_rate='constant',\n",
      "       learning_rate_init=0.001, max_iter=200, momentum=0.9,\n",
      "       nesterovs_momentum=True, power_t=0.5, random_state=1, shuffle=True,\n",
      "       solver='lbfgs', tol=0.0001, validation_fraction=0.1, verbose=True,\n",
      "       warm_start=False)\n",
      "Fitting 5 folds for each of 36 candidates, totalling 180 fits\n"
     ]
    },
    {
     "name": "stderr",
     "output_type": "stream",
     "text": [
      "[Parallel(n_jobs=2)]: Done  46 tasks      | elapsed:  1.9min\n",
      "[Parallel(n_jobs=2)]: Done 180 out of 180 | elapsed:  7.4min finished\n"
     ]
    },
    {
     "name": "stdout",
     "output_type": "stream",
     "text": [
      "------ Grid search cv results for MLP1 ------\n",
      "Best score: 0.9920\n",
      "Best parameters set:\n",
      "\tclassifier__alpha: 0.01\n",
      "\tclassifier__hidden_layer_sizes: (10, 10)\n",
      "\tclassifier__solver: 'lbfgs'\n",
      "\tdecomp__n_components: 50\n",
      "\tfeature_selection__k: 500\n",
      "\tfeature_selection__score_func: <function mutual_info_classif at 0x7fbdfa13ede8>\n",
      "1 2 (748, 1606) (748,) 0 KNeighborsClassifier(algorithm='auto', leaf_size=30, metric='minkowski',\n",
      "           metric_params=None, n_jobs=1, n_neighbors=5, p=2,\n",
      "           weights='uniform')\n",
      "Fitting 5 folds for each of 42 candidates, totalling 210 fits\n"
     ]
    },
    {
     "name": "stderr",
     "output_type": "stream",
     "text": [
      "[Parallel(n_jobs=2)]: Done  46 tasks      | elapsed:  2.9min\n",
      "[Parallel(n_jobs=2)]: Done 196 tasks      | elapsed: 12.1min\n",
      "[Parallel(n_jobs=2)]: Done 210 out of 210 | elapsed: 13.0min finished\n"
     ]
    },
    {
     "name": "stdout",
     "output_type": "stream",
     "text": [
      "------ Grid search cv results for NearNb ------\n",
      "Best score: 0.9813\n",
      "Best parameters set:\n",
      "\tclassifier__n_neighbors: 9\n",
      "\tdecomp__n_components: 100\n",
      "\tfeature_selection__k: 100\n",
      "\tfeature_selection__score_func: <function mutual_info_classif at 0x7fbdfa13ede8>\n",
      "1 2 (748, 1606) (748,) 1 SVC(C=1, cache_size=200, class_weight=None, coef0=0.0,\n",
      "  decision_function_shape=None, degree=3, gamma='auto', kernel='rbf',\n",
      "  max_iter=-1, probability=False, random_state=None, shrinking=True,\n",
      "  tol=0.001, verbose=False)\n",
      "Fitting 5 folds for each of 36 candidates, totalling 180 fits\n"
     ]
    },
    {
     "name": "stderr",
     "output_type": "stream",
     "text": [
      "[Parallel(n_jobs=2)]: Done  46 tasks      | elapsed:  2.9min\n",
      "[Parallel(n_jobs=2)]: Done 180 out of 180 | elapsed: 11.2min finished\n"
     ]
    },
    {
     "name": "stdout",
     "output_type": "stream",
     "text": [
      "------ Grid search cv results for RBFSVM1 ------\n",
      "Best score: 0.9853\n",
      "Best parameters set:\n",
      "\tclassifier__C: 10\n",
      "\tclassifier__kernel: 'rbf'\n",
      "\tdecomp__n_components: 100\n",
      "\tfeature_selection__k: 750\n",
      "\tfeature_selection__score_func: <function mutual_info_classif at 0x7fbdfa13ede8>\n",
      "1 2 (748, 1606) (748,) 2 MLPClassifier(activation='relu', alpha=0.0001, batch_size='auto', beta_1=0.9,\n",
      "       beta_2=0.999, early_stopping=False, epsilon=1e-08,\n",
      "       hidden_layer_sizes=(10, 10), learning_rate='constant',\n",
      "       learning_rate_init=0.001, max_iter=200, momentum=0.9,\n",
      "       nesterovs_momentum=True, power_t=0.5, random_state=1, shuffle=True,\n",
      "       solver='lbfgs', tol=0.0001, validation_fraction=0.1, verbose=True,\n",
      "       warm_start=False)\n",
      "Fitting 5 folds for each of 36 candidates, totalling 180 fits\n"
     ]
    },
    {
     "name": "stderr",
     "output_type": "stream",
     "text": [
      "[Parallel(n_jobs=2)]: Done  46 tasks      | elapsed:  2.9min\n",
      "[Parallel(n_jobs=2)]: Done 180 out of 180 | elapsed: 11.5min finished\n"
     ]
    },
    {
     "name": "stdout",
     "output_type": "stream",
     "text": [
      "------ Grid search cv results for MLP1 ------\n",
      "Best score: 0.9880\n",
      "Best parameters set:\n",
      "\tclassifier__alpha: 0.01\n",
      "\tclassifier__hidden_layer_sizes: (50, 50)\n",
      "\tclassifier__solver: 'lbfgs'\n",
      "\tdecomp__n_components: 50\n",
      "\tfeature_selection__k: 100\n",
      "\tfeature_selection__score_func: <function mutual_info_classif at 0x7fbdfa13ede8>\n",
      "2 0 (828, 803) (828,) 0 KNeighborsClassifier(algorithm='auto', leaf_size=30, metric='minkowski',\n",
      "           metric_params=None, n_jobs=1, n_neighbors=5, p=2,\n",
      "           weights='uniform')\n",
      "Fitting 5 folds for each of 42 candidates, totalling 210 fits\n"
     ]
    },
    {
     "name": "stderr",
     "output_type": "stream",
     "text": [
      "[Parallel(n_jobs=2)]: Done  46 tasks      | elapsed:  1.6min\n",
      "[Parallel(n_jobs=2)]: Done 196 tasks      | elapsed:  6.8min\n",
      "[Parallel(n_jobs=2)]: Done 210 out of 210 | elapsed:  7.3min finished\n"
     ]
    },
    {
     "name": "stdout",
     "output_type": "stream",
     "text": [
      "------ Grid search cv results for NearNb ------\n",
      "Best score: 0.6534\n",
      "Best parameters set:\n",
      "\tclassifier__n_neighbors: 3\n",
      "\tdecomp__n_components: 100\n",
      "\tfeature_selection__k: 500\n",
      "\tfeature_selection__score_func: <function mutual_info_classif at 0x7fbdfa13ede8>\n",
      "2 0 (828, 803) (828,) 1 SVC(C=1, cache_size=200, class_weight=None, coef0=0.0,\n",
      "  decision_function_shape=None, degree=3, gamma='auto', kernel='rbf',\n",
      "  max_iter=-1, probability=False, random_state=None, shrinking=True,\n",
      "  tol=0.001, verbose=False)\n",
      "Fitting 5 folds for each of 36 candidates, totalling 180 fits\n"
     ]
    },
    {
     "name": "stderr",
     "output_type": "stream",
     "text": [
      "[Parallel(n_jobs=2)]: Done  46 tasks      | elapsed:  1.7min\n",
      "[Parallel(n_jobs=2)]: Done 180 out of 180 | elapsed:  6.4min finished\n"
     ]
    },
    {
     "name": "stdout",
     "output_type": "stream",
     "text": [
      "------ Grid search cv results for RBFSVM1 ------\n",
      "Best score: 0.6232\n",
      "Best parameters set:\n",
      "\tclassifier__C: 1\n",
      "\tclassifier__kernel: 'rbf'\n",
      "\tdecomp__n_components: 50\n",
      "\tfeature_selection__k: 750\n",
      "\tfeature_selection__score_func: <function mutual_info_classif at 0x7fbdfa13ede8>\n",
      "2 0 (828, 803) (828,) 2 MLPClassifier(activation='relu', alpha=0.0001, batch_size='auto', beta_1=0.9,\n",
      "       beta_2=0.999, early_stopping=False, epsilon=1e-08,\n",
      "       hidden_layer_sizes=(10, 10), learning_rate='constant',\n",
      "       learning_rate_init=0.001, max_iter=200, momentum=0.9,\n",
      "       nesterovs_momentum=True, power_t=0.5, random_state=1, shuffle=True,\n",
      "       solver='lbfgs', tol=0.0001, validation_fraction=0.1, verbose=True,\n",
      "       warm_start=False)\n",
      "Fitting 5 folds for each of 36 candidates, totalling 180 fits\n"
     ]
    },
    {
     "name": "stderr",
     "output_type": "stream",
     "text": [
      "[Parallel(n_jobs=2)]: Done  46 tasks      | elapsed:  1.7min\n",
      "[Parallel(n_jobs=2)]: Done 180 out of 180 | elapsed:  7.3min finished\n"
     ]
    },
    {
     "name": "stdout",
     "output_type": "stream",
     "text": [
      "------ Grid search cv results for MLP1 ------\n",
      "Best score: 0.6751\n",
      "Best parameters set:\n",
      "\tclassifier__alpha: 1e-05\n",
      "\tclassifier__hidden_layer_sizes: (50, 50)\n",
      "\tclassifier__solver: 'lbfgs'\n",
      "\tdecomp__n_components: 100\n",
      "\tfeature_selection__k: 100\n",
      "\tfeature_selection__score_func: <function mutual_info_classif at 0x7fbdfa13ede8>\n",
      "2 1 (828, 803) (828,) 0 KNeighborsClassifier(algorithm='auto', leaf_size=30, metric='minkowski',\n",
      "           metric_params=None, n_jobs=1, n_neighbors=5, p=2,\n",
      "           weights='uniform')\n",
      "Fitting 5 folds for each of 42 candidates, totalling 210 fits\n"
     ]
    },
    {
     "name": "stderr",
     "output_type": "stream",
     "text": [
      "[Parallel(n_jobs=2)]: Done  46 tasks      | elapsed:  1.6min\n",
      "[Parallel(n_jobs=2)]: Done 196 tasks      | elapsed:  6.8min\n",
      "[Parallel(n_jobs=2)]: Done 210 out of 210 | elapsed:  7.2min finished\n"
     ]
    },
    {
     "name": "stdout",
     "output_type": "stream",
     "text": [
      "------ Grid search cv results for NearNb ------\n",
      "Best score: 0.8998\n",
      "Best parameters set:\n",
      "\tclassifier__n_neighbors: 4\n",
      "\tdecomp__n_components: 100\n",
      "\tfeature_selection__k: 100\n",
      "\tfeature_selection__score_func: <function mutual_info_classif at 0x7fbdfa13ede8>\n",
      "2 1 (828, 803) (828,) 1 SVC(C=1, cache_size=200, class_weight=None, coef0=0.0,\n",
      "  decision_function_shape=None, degree=3, gamma='auto', kernel='rbf',\n",
      "  max_iter=-1, probability=False, random_state=None, shrinking=True,\n",
      "  tol=0.001, verbose=False)\n",
      "Fitting 5 folds for each of 36 candidates, totalling 180 fits\n"
     ]
    },
    {
     "name": "stderr",
     "output_type": "stream",
     "text": [
      "[Parallel(n_jobs=2)]: Done  46 tasks      | elapsed:  1.6min\n",
      "[Parallel(n_jobs=2)]: Done 180 out of 180 | elapsed:  6.3min finished\n"
     ]
    },
    {
     "name": "stdout",
     "output_type": "stream",
     "text": [
      "------ Grid search cv results for RBFSVM1 ------\n",
      "Best score: 0.9529\n",
      "Best parameters set:\n",
      "\tclassifier__C: 10\n",
      "\tclassifier__kernel: 'rbf'\n",
      "\tdecomp__n_components: 50\n",
      "\tfeature_selection__k: 750\n",
      "\tfeature_selection__score_func: <function mutual_info_classif at 0x7fbdfa13ede8>\n",
      "2 1 (828, 803) (828,) 2 MLPClassifier(activation='relu', alpha=0.0001, batch_size='auto', beta_1=0.9,\n",
      "       beta_2=0.999, early_stopping=False, epsilon=1e-08,\n",
      "       hidden_layer_sizes=(10, 10), learning_rate='constant',\n",
      "       learning_rate_init=0.001, max_iter=200, momentum=0.9,\n",
      "       nesterovs_momentum=True, power_t=0.5, random_state=1, shuffle=True,\n",
      "       solver='lbfgs', tol=0.0001, validation_fraction=0.1, verbose=True,\n",
      "       warm_start=False)\n",
      "Fitting 5 folds for each of 36 candidates, totalling 180 fits\n"
     ]
    },
    {
     "name": "stderr",
     "output_type": "stream",
     "text": [
      "[Parallel(n_jobs=2)]: Done  46 tasks      | elapsed:  1.6min\n",
      "[Parallel(n_jobs=2)]: Done 180 out of 180 | elapsed:  6.9min finished\n"
     ]
    },
    {
     "name": "stdout",
     "output_type": "stream",
     "text": [
      "------ Grid search cv results for MLP1 ------\n",
      "Best score: 0.9553\n",
      "Best parameters set:\n",
      "\tclassifier__alpha: 0.01\n",
      "\tclassifier__hidden_layer_sizes: (10, 10)\n",
      "\tclassifier__solver: 'lbfgs'\n",
      "\tdecomp__n_components: 100\n",
      "\tfeature_selection__k: 750\n",
      "\tfeature_selection__score_func: <function mutual_info_classif at 0x7fbdfa13ede8>\n",
      "2 2 (828, 1606) (828,) 0 KNeighborsClassifier(algorithm='auto', leaf_size=30, metric='minkowski',\n",
      "           metric_params=None, n_jobs=1, n_neighbors=5, p=2,\n",
      "           weights='uniform')\n",
      "Fitting 5 folds for each of 42 candidates, totalling 210 fits\n"
     ]
    },
    {
     "name": "stderr",
     "output_type": "stream",
     "text": [
      "[Parallel(n_jobs=2)]: Done  46 tasks      | elapsed:  3.0min\n",
      "[Parallel(n_jobs=2)]: Done 196 tasks      | elapsed: 12.9min\n",
      "[Parallel(n_jobs=2)]: Done 210 out of 210 | elapsed: 13.8min finished\n"
     ]
    },
    {
     "name": "stdout",
     "output_type": "stream",
     "text": [
      "------ Grid search cv results for NearNb ------\n",
      "Best score: 0.8998\n",
      "Best parameters set:\n",
      "\tclassifier__n_neighbors: 4\n",
      "\tdecomp__n_components: 100\n",
      "\tfeature_selection__k: 100\n",
      "\tfeature_selection__score_func: <function mutual_info_classif at 0x7fbdfa13ede8>\n",
      "2 2 (828, 1606) (828,) 1 SVC(C=1, cache_size=200, class_weight=None, coef0=0.0,\n",
      "  decision_function_shape=None, degree=3, gamma='auto', kernel='rbf',\n",
      "  max_iter=-1, probability=False, random_state=None, shrinking=True,\n",
      "  tol=0.001, verbose=False)\n",
      "Fitting 5 folds for each of 36 candidates, totalling 180 fits\n"
     ]
    },
    {
     "name": "stderr",
     "output_type": "stream",
     "text": [
      "[Parallel(n_jobs=2)]: Done  46 tasks      | elapsed:  3.1min\n",
      "[Parallel(n_jobs=2)]: Done 180 out of 180 | elapsed: 11.8min finished\n"
     ]
    },
    {
     "name": "stdout",
     "output_type": "stream",
     "text": [
      "------ Grid search cv results for RBFSVM1 ------\n",
      "Best score: 0.9239\n",
      "Best parameters set:\n",
      "\tclassifier__C: 1000\n",
      "\tclassifier__kernel: 'rbf'\n",
      "\tdecomp__n_components: 50\n",
      "\tfeature_selection__k: 100\n",
      "\tfeature_selection__score_func: <function mutual_info_classif at 0x7fbdfa13ede8>\n",
      "2 2 (828, 1606) (828,) 2 MLPClassifier(activation='relu', alpha=0.0001, batch_size='auto', beta_1=0.9,\n",
      "       beta_2=0.999, early_stopping=False, epsilon=1e-08,\n",
      "       hidden_layer_sizes=(10, 10), learning_rate='constant',\n",
      "       learning_rate_init=0.001, max_iter=200, momentum=0.9,\n",
      "       nesterovs_momentum=True, power_t=0.5, random_state=1, shuffle=True,\n",
      "       solver='lbfgs', tol=0.0001, validation_fraction=0.1, verbose=True,\n",
      "       warm_start=False)\n",
      "Fitting 5 folds for each of 36 candidates, totalling 180 fits\n"
     ]
    },
    {
     "name": "stderr",
     "output_type": "stream",
     "text": [
      "[Parallel(n_jobs=2)]: Done  46 tasks      | elapsed:  3.1min\n",
      "[Parallel(n_jobs=2)]: Done 180 out of 180 | elapsed: 12.5min finished\n"
     ]
    },
    {
     "name": "stdout",
     "output_type": "stream",
     "text": [
      "------ Grid search cv results for MLP1 ------\n",
      "Best score: 0.9420\n",
      "Best parameters set:\n",
      "\tclassifier__alpha: 1e-05\n",
      "\tclassifier__hidden_layer_sizes: (10, 10)\n",
      "\tclassifier__solver: 'lbfgs'\n",
      "\tdecomp__n_components: 100\n",
      "\tfeature_selection__k: 100\n",
      "\tfeature_selection__score_func: <function mutual_info_classif at 0x7fbdfa13ede8>\n",
      "CPU times: user 3min 59s, sys: 21.7 s, total: 4min 20s\n",
      "Wall time: 4h 23min 50s\n"
     ]
    }
   ],
   "source": [
    "%%time\n",
    "state = 42\n",
    "skipdata = 20\n",
    "best_parameters = np.zeros((X.shape[0],len(tmpind),len(classifiers))).tolist()\n",
    "best_clf = np.zeros((X.shape[0],len(tmpind),len(classifiers))).tolist()\n",
    "best_fs_sc = np.zeros((X.shape[0],len(tmpind),len(classifiers))).tolist()\n",
    "for i in range(X.shape[0]):\n",
    "    y_tot = np.copy(Ysp[i]) ; y_tot = y_tot[::skipdata]\n",
    "    for j in range(len(tmpind)):\n",
    "        x_tot = np.copy(Xsp[i][j]) ; x_tot = x_tot[::skipdata,:]\n",
    "        \n",
    "        # Grid search for param tuning for all classifiers\n",
    "#         cv = StratifiedKFold(n_splits = 5, shuffle = True, random_state = state)\n",
    "        cv = KFold(n_splits = 5, shuffle = False, random_state = state)\n",
    "        for clfid, clfval in enumerate(classifiers[:-1]):\n",
    "            print i, j, x_tot.shape, y_tot.shape, clfid, clfval\n",
    "            grid_pip = make_pipe_clf(StandardScaler(),SelectKBest(),PCA(),clfval)\n",
    "            p1 = makepipe_parameters_clf[clfid]\n",
    "            p2 = makepipe_parameters_clf[-2]\n",
    "            p3 = makepipe_parameters_clf[-1]\n",
    "            params = reduce(lambda x,y: dict(x, **y), (p1, p2, p3))\n",
    "#             print p1,p2,p3,params\n",
    "            grid_search = GridSearchCV(grid_pip, params, verbose = 1, cv = cv, n_jobs=2)\n",
    "#             if clfid != len(classifiers):\n",
    "            grid_search.fit(x_tot, y_tot)\n",
    "#             print best_parameters[i][j][clfid]\n",
    "            best_parameters[i][j][clfid] = grid_search.best_estimator_.get_params()\n",
    "            print(\"------ Grid search cv results for \"+names[clfid]+\" ------\")\n",
    "            print(\"Best score: %0.4f\" %grid_search.best_score_)\n",
    "            print(\"Best parameters set:\")\n",
    "#             best_parameters += [grid_search.best_estimator_.get_params()]\n",
    "            for param_name in sorted(params.keys()):\n",
    "                 print(\"\\t%s: %r\" % (param_name, best_parameters[i][j][clfid][param_name]))\n",
    "            best_clf[i][j][clfid] = grid_pip.set_params(**best_parameters[i][j][clfid])\n",
    "#             raw_input()\n",
    "#             best_fit = best_clf[i][j][clfid].fit(x_tot,y_tot)\n",
    "            best_fs = best_clf[i][j][clfid].named_steps['feature_selection']\n",
    "            pipe_fs_unsorted = best_fs.scores_\n",
    "            best_fs_sc[i][j][clfid] = pipe_fs_unsorted\n",
    "#             fs_inds = pipe_fs_unsorted.argsort()\n",
    "#             pipe_fs = pipe_fs_unsorted[fs_inds]\n",
    "#########\n",
    "#             #print the top features selected\n",
    "#             best_fs = gridpip.set_params(**self.classifiers[self.actual_ind]).named_steps['feature_selection']\n",
    "# #           self.best_fs = self.pipe.set_params(**self.classifiers[self.actual_ind]).named_steps['feature_selection']\n",
    "# #           best_fs = pipeline[actual_ind].named_steps['feature_selection']\n",
    "# #             self.best_fs_indd = self.best_fs.get_support(indices = True)\n",
    "# #                 print(self.best_fs_indd)\n",
    "#             pipe_fs_unsorted = best_fs.scores_\n",
    "# #             self.fs_inds = self.pipe_fs_unsorted.argsort()\n",
    "# #                 print(self.fs_inds)\n",
    "#             self.pipe_fs = self.pipe_fs_unsorted[self.fs_inds]\n",
    "#             self.temp3 = 0 # temp3 = 0:number of features\n",
    "\n",
    "#             for self.temp_ind2 in range(-1, -(self.nfeat +1), -1):         \n",
    "#                 self.best_feat_ind[self.temp2][self.temp3]=self.fs_inds[self.temp_ind2]\n",
    "#                 self.total_feats[self.fs_inds[self.temp_ind2]]+=1 # feature scores \n",
    "#                 self.temp3+=1\n",
    "# #                 print(self.total_feats)\n",
    "#             #fit the best classifier on the outer test data\n",
    "#             self.best_pip = self.pipe.set_params(**self.classifiers[self.actual_ind])\n",
    "\n",
    "#             self.best_pip.fit(self.x_trn_out, self.y_trn_out)\n",
    "\n",
    "#             #get the outer score \n",
    "#             self.outer_scores[self.temp2, self.fold_out] = self.best_pip.score(self.x_tst_out, self.y_tst_out)\n",
    "#             print(\"Inner score: %f VS Outer score: %f \\n\" %(self.inner_mean_scores[self.actual_ind], self.outer_scores[self.temp2, self.fold_out]))\n",
    "#             print (\"----------------------------------------------------------\")\n",
    "#             self.temp2+=1\n",
    "###########\n",
    "            \n",
    "            \n",
    "#             else:\n",
    "                # ensemble MLP\n",
    "#                 x_tot_Ens = best_clf[i][j][clfid]\n",
    "#                 grid_search.fit(x_tot_Ens, y_tot)\n"
   ]
  },
  {
   "cell_type": "code",
   "execution_count": null,
   "metadata": {
    "collapsed": true
   },
   "outputs": [],
   "source": []
  }
 ],
 "metadata": {
  "kernelspec": {
   "display_name": "Python 2",
   "language": "python",
   "name": "python2"
  },
  "language_info": {
   "codemirror_mode": {
    "name": "ipython",
    "version": 2
   },
   "file_extension": ".py",
   "mimetype": "text/x-python",
   "name": "python",
   "nbconvert_exporter": "python",
   "pygments_lexer": "ipython2",
   "version": "2.7.12"
  }
 },
 "nbformat": 4,
 "nbformat_minor": 2
}
