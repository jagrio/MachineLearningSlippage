{
 "cells": [
  {
   "cell_type": "code",
   "execution_count": 3,
   "metadata": {
    "collapsed": true
   },
   "outputs": [],
   "source": [
    "import numpy as np\n",
    "import scipy.io as sio\n",
    "import matplotlib.pyplot as plt\n",
    "from copy import deepcopy\n",
    "%matplotlib inline \n",
    "datapath = 'tmp/'"
   ]
  },
  {
   "cell_type": "code",
   "execution_count": 3,
   "metadata": {},
   "outputs": [
    {
     "name": "stdout",
     "output_type": "stream",
     "text": [
      "M shape:  (2350018, 8)\n",
      "M to list shape:  18\n",
      "m 0 shape:  (75001, 8)\n",
      "m 0 shape:  (75001, 8) (75001, 5) (75001, 5)\n",
      "m 1 shape:  (130001, 8)\n",
      "m 1 shape:  (130001, 8) (130001, 5) (130001, 5)\n",
      "m 2 shape:  (195001, 8)\n",
      "m 2 shape:  (195001, 8) (195001, 5) (195001, 5)\n",
      "m 3 shape:  (195001, 8)\n",
      "m 3 shape:  (195001, 8) (195001, 5) (195001, 5)\n",
      "m 4 shape:  (130001, 8)\n",
      "m 4 shape:  (130001, 8) (130001, 5) (130001, 5)\n",
      "m 5 shape:  (65001, 8)\n",
      "m 5 shape:  (65001, 8) (65001, 5) (65001, 5)\n",
      "m 6 shape:  (65001, 8)\n",
      "m 6 shape:  (65001, 8) (65001, 5) (65001, 5)\n",
      "m 7 shape:  (130001, 8)\n",
      "m 7 shape:  (130001, 8) (130001, 5) (130001, 5)\n",
      "m 8 shape:  (195001, 8)\n",
      "m 8 shape:  (195001, 8) (195001, 5) (195001, 5)\n",
      "m 9 shape:  (195001, 8)\n",
      "m 9 shape:  (195001, 8) (195001, 5) (195001, 5)\n",
      "m 10 shape:  (130001, 8)\n",
      "m 10 shape:  (130001, 8) (130001, 5) (130001, 5)\n",
      "m 11 shape:  (65001, 8)\n",
      "m 11 shape:  (65001, 8) (65001, 5) (65001, 5)\n",
      "m 12 shape:  (65001, 8)\n",
      "m 12 shape:  (65001, 8) (65001, 5) (65001, 5)\n",
      "m 13 shape:  (130001, 8)\n",
      "m 13 shape:  (130001, 8) (130001, 5) (130001, 5)\n",
      "m 14 shape:  (195001, 8)\n",
      "m 14 shape:  (195001, 8) (195001, 5) (195001, 5)\n",
      "m 15 shape:  (130001, 8)\n",
      "m 15 shape:  (130001, 8) (130001, 5) (130001, 5)\n",
      "m 16 shape:  (195001, 8)\n",
      "m 16 shape:  (195001, 8) (195001, 5) (195001, 5)\n",
      "m 17 shape:  (65001, 8)\n",
      "m 17 shape:  (65001, 8) (65001, 5) (65001, 5)\n"
     ]
    }
   ],
   "source": [
    "# datafile = 'tmp/all123.mat'\n",
    "# datafile = 'tmp/test1.mat'\n",
    "datafile = 'tmp/data4.mat'\n",
    "data = sio.loadmat(datafile)\n",
    "# M = data['M']\n",
    "M = data['data4']\n",
    "print 'M shape: ', M.shape\n",
    "Mn = [M[:,0]==i for i in range(0,int(M[-1,0])+1)]\n",
    "Mnl = [M[i,:] for i in Mn]\n",
    "f1 = deepcopy(Mnl)\n",
    "f2 = deepcopy(Mnl)\n",
    "print 'M to list shape: ', len(Mnl)\n",
    "for i in range(len(Mnl)):\n",
    "    print 'm',i,'shape: ',Mnl[i].shape\n",
    "#     f1[i] = deepcopy(Mnl[i][:,[0,3,8,9,10]])\n",
    "    f1[i] = deepcopy(Mnl[i][:,[0,1,2,3,4]])\n",
    "    f1[i][:,1] = np.abs(1-f1[i][:,1])\n",
    "#     f2[i] = deepcopy(Mnl[i][:,[0,3,17,18,19]])\n",
    "    f2[i] = deepcopy(Mnl[i][:,[0,1,5,6,7]])\n",
    "    f2[i][:,1] = np.abs(1-f2[i][:,1])\n",
    "#     Mnl[i] = Mnl[i][:,[0,3]+range(5,24)]\n",
    "    Mnl[i] = Mnl[i][:,range(M.shape[1])]\n",
    "    print 'm',i,'shape: ',Mnl[i].shape, f1[i].shape, f2[i].shape"
   ]
  },
  {
   "cell_type": "code",
   "execution_count": 4,
   "metadata": {
    "collapsed": true
   },
   "outputs": [],
   "source": [
    "# details = [\n",
    "#             [['f1=f2=1-2N'],['15cm05sec'],['3reps'],['blue_smooth']],\n",
    "#             [['f1=f2=1-2N'],['15cm05sec'],['3reps'],['black_sandpaper']],\n",
    "#             [['f1=f2=1-2N'],['15cm05sec'],['3reps'],['banana_paper']]\n",
    "# ]\n",
    "# details = [\n",
    "#             [['f1=f2=1N'],['15cm15sec'],['5reps'],['blue_smooth']],\n",
    "#             [['f1=f2=1N'],['15cm05sec'],['5reps'],['blue_smooth']],\n",
    "#             [['f1=f2=1N'],['15cm10sec'],['5reps'],['blue_smooth']],\n",
    "#             [['f1=f2=2N'],['15cm15sec'],['3reps'],['blue_smooth']],\n",
    "#             [['f1=f2=2N'],['15cm10sec'],['3reps'],['blue_smooth']],\n",
    "#             [['f1=f2=2N'],['15cm05sec'],['3reps'],['blue_smooth']],\n",
    "#             [['f1=f2=2N'],['15cm15sec'],['3reps'],['banana_paper']],\n",
    "#             [['f1=f2=2N'],['15cm05sec'],['3reps'],['banana_paper']],\n",
    "#             [['f1=f2=2N'],['15cm10sec'],['3reps'],['banana_paper']],\n",
    "#             [['f1=f2=1N'],['15cm15sec'],['3reps'],['banana_paper']],\n",
    "#             [['f1=f2=1N'],['15cm05sec'],['3reps'],['banana_paper']],\n",
    "#             [['f1=f2=1N'],['15cm10sec'],['3reps'],['banana_paper']],\n",
    "#             [['f1=f2=1N'],['15cm15sec'],['3reps'],['black_sandpaper']],\n",
    "#             [['f1=f2=1N'],['15cm05sec'],['3reps'],['black_sandpaper']],\n",
    "#             [['f1=f2=1N'],['15cm10sec'],['3reps'],['black_sandpaper']],\n",
    "#             [['f1=f2=2N'],['15cm15sec'],['3reps'],['black_sandpaper']],\n",
    "#             [['f1=f2=2N'],['15cm05sec'],['3reps'],['black_sandpaper']],\n",
    "#             [['f1=f2=2N'],['15cm10sec'],['3reps'],['black_sandpaper']],\n",
    "#             [['f1=f2=0N'],['15cm05sec'],['3reps'],['no_surface_only_AIR']]\n",
    "#             ]\n",
    "details = [\n",
    "            [['f1,f2=1.3,1.0N'],['15cm05sec'],['3reps'],['light_blue_fluffy']],\n",
    "            [['f1,f2=1.3,1.0N'],['15cm10sec'],['3reps'],['light_blue_fluffy']],\n",
    "            [['f1,f2=1.3,1.0N'],['15cm15sec'],['3reps'],['light_blue_fluffy']],\n",
    "            [['f1,f2=2.3,1.8N'],['15cm15sec'],['3reps'],['light_blue_fluffy']],\n",
    "            [['f1,f2=2.7,1.5N'],['15cm10sec'],['3reps'],['light_blue_fluffy']],\n",
    "            [['f1,f2=2.7,1.6N'],['15cm05sec'],['3reps'],['light_blue_fluffy']],\n",
    "            [['f1,f2=1.1,1.2N'],['15cm05sec'],['3reps'],['red_banana_paper']],\n",
    "            [['f1,f2=1.1,1.2N'],['15cm10sec'],['3reps'],['red_banana_paper']],\n",
    "            [['f1,f2=1.1,1.2N'],['15cm15sec'],['3reps'],['red_banana_paper']],\n",
    "            [['f1,f2=2.2,1.6N'],['15cm15sec'],['3reps'],['red_banana_paper']],\n",
    "            [['f1,f2=2.2,1.6N'],['15cm10sec'],['3reps'],['red_banana_paper']],\n",
    "            [['f1,f2=2.2,1.4N'],['15cm05sec'],['3reps'],['red_banana_paper']],\n",
    "            [['f1,f2=2.5,2.1N'],['15cm05sec'],['3reps'],['cork_paper']],\n",
    "            [['f1,f2=2.5,2.1N'],['15cm10sec'],['3reps'],['cork_paper']],\n",
    "            [['f1,f2=2.2,2.2N'],['15cm15sec'],['3reps'],['cork_paper']],\n",
    "            [['f1,f2=1.2,1.2N'],['15cm10sec'],['3reps'],['cork_paper']],\n",
    "            [['f1,f2=1.2,1.2N'],['15cm15sec'],['3reps'],['cork_paper']],\n",
    "            [['f1,f2=1.5,1.5N'],['15cm05sec'],['3reps'],['cork_paper']]\n",
    "            ]"
   ]
  },
  {
   "cell_type": "code",
   "execution_count": null,
   "metadata": {
    "collapsed": true
   },
   "outputs": [],
   "source": [
    "# np.savez('tmp/all123.npz',f1=f1,f2=f2,details=details)\n",
    "np.savez('tmp/data4.npz',f1=f1,f2=f2,details=details)"
   ]
  },
  {
   "cell_type": "code",
   "execution_count": 3,
   "metadata": {},
   "outputs": [
    {
     "name": "stdout",
     "output_type": "stream",
     "text": [
      "(18,)\n"
     ]
    },
    {
     "data": {
      "text/plain": [
       "[<matplotlib.lines.Line2D at 0x7f852f4f8110>]"
      ]
     },
     "execution_count": 3,
     "metadata": {},
     "output_type": "execute_result"
    },
    {
     "data": {
      "image/png": "[encoded data removed]",
      "text/plain": [
       "<matplotlib.figure.Figure at 0x7f85318fa410>"
      ]
     },
     "metadata": {},
     "output_type": "display_data"
    }
   ],
   "source": [
    "inp = np.load('tmp/data4.npz')\n",
    "# inp = np.load('tmp/test1.npz')\n",
    "f1 = inp['f1']\n",
    "print f1.shape\n",
    "plt.plot(f1[0][:,1])"
   ]
  },
  {
   "cell_type": "code",
   "execution_count": 5,
   "metadata": {},
   "outputs": [
    {
     "name": "stdout",
     "output_type": "stream",
     "text": [
      "(18,) (18,) (18, 4, 1) (18,) (18,) (18, 4, 1)\n",
      "(72,) (72,) (72, 4)\n"
     ]
    }
   ],
   "source": [
    "###################################### CREATE DATASET FOR ALL 6 SURFACES ###########################################\n",
    "inp = np.load(datapath+'all123.npz')\n",
    "f11 = inp['f1'][:-1]\n",
    "f12 = inp['f2'][:-1]\n",
    "l1 = np.array([fi[:,1] for fi in f11])\n",
    "f11 = np.array([fi[:,2:] for fi in f11])\n",
    "f12 = np.array([fi[:,2:] for fi in f12])\n",
    "f11d = inp['details'][:-1]\n",
    "f12d = inp['details'][:-1]\n",
    "inp = np.load(datapath+'data4.npz')\n",
    "f21 = inp['f1']\n",
    "f22 = inp['f2']\n",
    "l2 = np.array([fi[:,1] for fi in f21])\n",
    "f21 = np.array([fi[:,2:] for fi in f21])\n",
    "f22 = np.array([fi[:,2:] for fi in f22])\n",
    "f21d = inp['details']\n",
    "f22d = inp['details']\n",
    "print f11.shape, l1.shape, f11d.shape, f21.shape, l2.shape, f21d.shape\n",
    "f11d[6:12,3,0] = 'blue_banana_paper'\n",
    "f12d[6:12,3,0] = 'blue_banana_paper'\n",
    "f11d[:,1,0] = [\"{}, {}\".format(a_, b_) for a_, b_ in zip(f11d[:,1,0], f11d[:,2,0])]\n",
    "f11d[:,2,0] = 'f1'\n",
    "f12d[:,1,0] = [\"{}, {}\".format(a_, b_) for a_, b_ in zip(f12d[:,1,0], f12d[:,2,0])]\n",
    "f12d[:,2,0] = 'f2'\n",
    "# print f11d, f12d\n",
    "f21d[6:12,3,0] = 'red_felt_paper'\n",
    "f22d[6:12,3,0] = 'red_felt_paper'\n",
    "f21d[:,1,0] = [\"{}, {}\".format(a_, b_) for a_, b_ in zip(f21d[:,1,0], f21d[:,2,0])]\n",
    "f21d[:,2,0] = 'f1'\n",
    "f22d[:,1,0] = [\"{}, {}\".format(a_, b_) for a_, b_ in zip(f22d[:,1,0], f22d[:,2,0])]\n",
    "f22d[:,2,0] = 'f2'\n",
    "# print f21d, f22d\n",
    "f = np.concatenate((f11,f21,f12,f22),axis=0)\n",
    "l = np.concatenate((l1,l2,l1,l2),axis=0)\n",
    "fd = np.concatenate((f11d,f21d,f12d,f22d),axis=0)[:,:,0]\n",
    "print f.shape, l.shape, fd.shape\n",
    "### fix label start and end\n",
    "tmpd = [np.abs(np.diff(li.astype(int),n=1,axis=0)) for li in l]\n",
    "for i in range(len(tmpd)):\n",
    "    ti = tmpd[i]\n",
    "    li = l[i]\n",
    "    if np.sum(ti) > 0:\n",
    "        tmpind = np.array(range(len(ti)))[ti > 0]\n",
    "        if li[0] == 1:\n",
    "            li[:tmpind[0]+1] = 0\n",
    "        li[-5:] = 0\n",
    "    l[i] = li\n",
    "datafile = 'dataset'\n",
    "np.savez(datapath+datafile+'.npz',f=f,l=l,fd=fd,f1=f[:len(f)/2],l1=l[:len(f)/2],fd1=fd[:len(f)/2],f2=f[len(f)/2:],l2=l[len(f)/2:],fd2=fd[len(f)/2:])\n",
    "sio.savemat(datapath+datafile+'.mat',{'f':f,'l':l,'fd':np.array(fd,dtype=np.object),\n",
    "                                      'f1':f[:len(f)/2],'l1':l[:len(f)/2],'fd1':np.array(fd[:len(f)/2],dtype=np.object),\n",
    "                                      'f2':f[len(f)/2:],'l2':l[len(f)/2:],'fd2':np.array(fd[len(f)/2:],dtype=np.object)})"
   ]
  }
 ],
 "metadata": {
  "kernelspec": {
   "display_name": "Python 2",
   "language": "python",
   "name": "python2"
  },
  "language_info": {
   "codemirror_mode": {
    "name": "ipython",
    "version": 2
   },
   "file_extension": ".py",
   "mimetype": "text/x-python",
   "name": "python",
   "nbconvert_exporter": "python",
   "pygments_lexer": "ipython2",
   "version": "2.7.12"
  }
 },
 "nbformat": 4,
 "nbformat_minor": 2
}
